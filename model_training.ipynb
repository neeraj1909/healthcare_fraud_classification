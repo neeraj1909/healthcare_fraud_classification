{
 "cells": [
  {
   "cell_type": "code",
   "execution_count": 1,
   "metadata": {},
   "outputs": [],
   "source": [
    "import os\n",
    "\n",
    "import numpy as np\n",
    "import pandas as pd"
   ]
  },
  {
   "cell_type": "code",
   "execution_count": null,
   "metadata": {},
   "outputs": [],
   "source": []
  },
  {
   "cell_type": "markdown",
   "metadata": {},
   "source": [
    "### Load the data for training"
   ]
  },
  {
   "cell_type": "code",
   "execution_count": 2,
   "metadata": {},
   "outputs": [],
   "source": [
    "# Load the training data\n",
    "train_beneficiary_df = pd.read_csv('Medicare-Fraud-Detection-DS/Train_Beneficiarydata-1542865627584.csv')\n",
    "train_inpatientdata_df = pd.read_csv('Medicare-Fraud-Detection-DS/Train_Inpatientdata-1542865627584.csv')\n",
    "train_outpatientdata_df = pd.read_csv('Medicare-Fraud-Detection-DS/Train_Outpatientdata-1542865627584.csv')\n",
    "train_provider_df = pd.read_csv('Medicare-Fraud-Detection-DS/Train-1542865627584.csv')\n",
    "\n",
    "# Load the test data\n",
    "test_beneficiary_df = pd.read_csv('Medicare-Fraud-Detection-DS/Test_Beneficiarydata-1542969243754.csv')\n",
    "test_inpatientdata_df = pd.read_csv('Medicare-Fraud-Detection-DS/Test_Inpatientdata-1542969243754.csv')\n",
    "test_outpatientdata_df = pd.read_csv('Medicare-Fraud-Detection-DS/Test_Outpatientdata-1542969243754.csv')\n",
    "test_provider_df = pd.read_csv('Medicare-Fraud-Detection-DS/Test-1542969243754.csv') "
   ]
  },
  {
   "cell_type": "code",
   "execution_count": 3,
   "metadata": {},
   "outputs": [
    {
     "data": {
      "text/plain": [
       "['BeneID']"
      ]
     },
     "execution_count": 3,
     "metadata": {},
     "output_type": "execute_result"
    }
   ],
   "source": [
    "# common features in train_beneficiary_df and train_inpatientdata_df\n",
    "common_features_beneficiary_inpatient = list(set(train_beneficiary_df.columns).intersection(set(train_inpatientdata_df.columns)))\n",
    "common_features_beneficiary_inpatient"
   ]
  },
  {
   "cell_type": "code",
   "execution_count": null,
   "metadata": {},
   "outputs": [],
   "source": []
  },
  {
   "cell_type": "markdown",
   "metadata": {},
   "source": [
    "### Check whether all provider details of **All-Providers** are present in the **Test-Beneficiary**, **Test-Inpatient**, and **Test-Outpatient** or not"
   ]
  },
  {
   "cell_type": "code",
   "execution_count": 4,
   "metadata": {},
   "outputs": [
    {
     "name": "stdout",
     "output_type": "stream",
     "text": [
      "(1353, 1)\n",
      "(833, 1)\n",
      "(94, 1)\n"
     ]
    }
   ],
   "source": [
    "# check how many providers are there in test_provider_df but not in test_beneficiary_df, test_inpatientdata_df, test_outpatientdata_df\n",
    "provider_test_not_in_beneficiary = test_provider_df[~test_provider_df['Provider'].isin(test_beneficiary_df['BeneID'])]\n",
    "provider_test_not_in_inpatient = test_provider_df[~test_provider_df['Provider'].isin(test_inpatientdata_df['Provider'])]\n",
    "provider_test_not_in_outpatient = test_provider_df[~test_provider_df['Provider'].isin(test_outpatientdata_df['Provider'])]\n",
    "\n",
    "print(provider_test_not_in_beneficiary.shape)\n",
    "print(provider_test_not_in_inpatient.shape)\n",
    "print(provider_test_not_in_outpatient.shape)"
   ]
  },
  {
   "cell_type": "code",
   "execution_count": null,
   "metadata": {},
   "outputs": [],
   "source": []
  },
  {
   "cell_type": "code",
   "execution_count": null,
   "metadata": {},
   "outputs": [],
   "source": []
  },
  {
   "cell_type": "markdown",
   "metadata": {},
   "source": [
    "###"
   ]
  },
  {
   "cell_type": "code",
   "execution_count": 5,
   "metadata": {},
   "outputs": [
    {
     "data": {
      "text/plain": [
       "['ClaimEndDt',\n",
       " 'ClmDiagnosisCode_4',\n",
       " 'ClmProcedureCode_5',\n",
       " 'ClmDiagnosisCode_1',\n",
       " 'OperatingPhysician',\n",
       " 'ClaimStartDt',\n",
       " 'ClmProcedureCode_2',\n",
       " 'ClmDiagnosisCode_6',\n",
       " 'BeneID',\n",
       " 'ClmDiagnosisCode_7',\n",
       " 'ClmDiagnosisCode_3',\n",
       " 'ClmProcedureCode_6',\n",
       " 'ClmDiagnosisCode_5',\n",
       " 'OtherPhysician',\n",
       " 'ClmDiagnosisCode_8',\n",
       " 'DeductibleAmtPaid',\n",
       " 'ClmDiagnosisCode_9',\n",
       " 'ClmDiagnosisCode_10',\n",
       " 'AttendingPhysician',\n",
       " 'ClmProcedureCode_3',\n",
       " 'ClmDiagnosisCode_2',\n",
       " 'InscClaimAmtReimbursed',\n",
       " 'ClmAdmitDiagnosisCode',\n",
       " 'ClaimID',\n",
       " 'ClmProcedureCode_1',\n",
       " 'ClmProcedureCode_4',\n",
       " 'Provider']"
      ]
     },
     "execution_count": 5,
     "metadata": {},
     "output_type": "execute_result"
    }
   ],
   "source": [
    "a = pd.merge(train_beneficiary_df, train_inpatientdata_df, on='BeneID', how='left')\n",
    "\n",
    "# common features between a and train_outpatientdata_df\n",
    "common_features_a_outpatient = list(set(a.columns).intersection(set(train_outpatientdata_df.columns)))\n",
    "common_features_a_outpatient"
   ]
  },
  {
   "cell_type": "code",
   "execution_count": 6,
   "metadata": {},
   "outputs": [
    {
     "data": {
      "text/plain": [
       "['Provider']"
      ]
     },
     "execution_count": 6,
     "metadata": {},
     "output_type": "execute_result"
    }
   ],
   "source": [
    "b = pd.merge(a, train_outpatientdata_df, on=['ClaimID', 'BeneID', 'Provider'], how='left')\n",
    "\n",
    "# common features between b and train_provider_df\n",
    "common_features_b_provider = list(set(b.columns).intersection(set(train_provider_df.columns)))\n",
    "common_features_b_provider"
   ]
  },
  {
   "cell_type": "code",
   "execution_count": 7,
   "metadata": {},
   "outputs": [
    {
     "data": {
      "text/plain": [
       "(147741, 79)"
      ]
     },
     "execution_count": 7,
     "metadata": {},
     "output_type": "execute_result"
    }
   ],
   "source": [
    "# Create the aggregated data\n",
    "df_train = pd.merge(train_beneficiary_df, train_inpatientdata_df, on='BeneID', how='left')\n",
    "df_train = pd.merge(df_train, train_outpatientdata_df, on=['ClaimID', 'BeneID', 'Provider'], how='left')\n",
    "df_train = pd.merge(df_train, train_provider_df, on='Provider', how='left')\n",
    "\n",
    "df_train.shape"
   ]
  },
  {
   "cell_type": "code",
   "execution_count": 8,
   "metadata": {},
   "outputs": [
    {
     "data": {
      "text/plain": [
       "(65168, 78)"
      ]
     },
     "execution_count": 8,
     "metadata": {},
     "output_type": "execute_result"
    }
   ],
   "source": [
    "df_test = pd.merge(test_beneficiary_df, test_inpatientdata_df, on='BeneID', how='left')\n",
    "df_test = pd.merge(df_test, test_outpatientdata_df, on=['ClaimID', 'BeneID', 'Provider'], how='left')\n",
    "df_test = pd.merge(df_test, test_provider_df, on='Provider', how='left')\n",
    "\n",
    "df_test.shape"
   ]
  },
  {
   "cell_type": "code",
   "execution_count": 9,
   "metadata": {},
   "outputs": [
    {
     "data": {
      "text/html": [
       "<div>\n",
       "<style scoped>\n",
       "    .dataframe tbody tr th:only-of-type {\n",
       "        vertical-align: middle;\n",
       "    }\n",
       "\n",
       "    .dataframe tbody tr th {\n",
       "        vertical-align: top;\n",
       "    }\n",
       "\n",
       "    .dataframe thead th {\n",
       "        text-align: right;\n",
       "    }\n",
       "</style>\n",
       "<table border=\"1\" class=\"dataframe\">\n",
       "  <thead>\n",
       "    <tr style=\"text-align: right;\">\n",
       "      <th></th>\n",
       "      <th>BeneID</th>\n",
       "      <th>DOB</th>\n",
       "      <th>DOD</th>\n",
       "      <th>Gender</th>\n",
       "      <th>Race</th>\n",
       "      <th>RenalDiseaseIndicator</th>\n",
       "      <th>State</th>\n",
       "      <th>County</th>\n",
       "      <th>NoOfMonths_PartACov</th>\n",
       "      <th>NoOfMonths_PartBCov</th>\n",
       "      <th>...</th>\n",
       "      <th>ClmDiagnosisCode_10_y</th>\n",
       "      <th>ClmProcedureCode_1_y</th>\n",
       "      <th>ClmProcedureCode_2_y</th>\n",
       "      <th>ClmProcedureCode_3_y</th>\n",
       "      <th>ClmProcedureCode_4_y</th>\n",
       "      <th>ClmProcedureCode_5_y</th>\n",
       "      <th>ClmProcedureCode_6_y</th>\n",
       "      <th>DeductibleAmtPaid_y</th>\n",
       "      <th>ClmAdmitDiagnosisCode_y</th>\n",
       "      <th>PotentialFraud</th>\n",
       "    </tr>\n",
       "  </thead>\n",
       "  <tbody>\n",
       "    <tr>\n",
       "      <th>0</th>\n",
       "      <td>BENE11001</td>\n",
       "      <td>1943-01-01</td>\n",
       "      <td>NaN</td>\n",
       "      <td>1</td>\n",
       "      <td>1</td>\n",
       "      <td>0</td>\n",
       "      <td>39</td>\n",
       "      <td>230</td>\n",
       "      <td>12</td>\n",
       "      <td>12</td>\n",
       "      <td>...</td>\n",
       "      <td>NaN</td>\n",
       "      <td>NaN</td>\n",
       "      <td>NaN</td>\n",
       "      <td>NaN</td>\n",
       "      <td>NaN</td>\n",
       "      <td>NaN</td>\n",
       "      <td>NaN</td>\n",
       "      <td>NaN</td>\n",
       "      <td>NaN</td>\n",
       "      <td>Yes</td>\n",
       "    </tr>\n",
       "    <tr>\n",
       "      <th>1</th>\n",
       "      <td>BENE11001</td>\n",
       "      <td>1943-01-01</td>\n",
       "      <td>NaN</td>\n",
       "      <td>1</td>\n",
       "      <td>1</td>\n",
       "      <td>0</td>\n",
       "      <td>39</td>\n",
       "      <td>230</td>\n",
       "      <td>12</td>\n",
       "      <td>12</td>\n",
       "      <td>...</td>\n",
       "      <td>NaN</td>\n",
       "      <td>NaN</td>\n",
       "      <td>NaN</td>\n",
       "      <td>NaN</td>\n",
       "      <td>NaN</td>\n",
       "      <td>NaN</td>\n",
       "      <td>NaN</td>\n",
       "      <td>NaN</td>\n",
       "      <td>NaN</td>\n",
       "      <td>No</td>\n",
       "    </tr>\n",
       "    <tr>\n",
       "      <th>2</th>\n",
       "      <td>BENE11001</td>\n",
       "      <td>1943-01-01</td>\n",
       "      <td>NaN</td>\n",
       "      <td>1</td>\n",
       "      <td>1</td>\n",
       "      <td>0</td>\n",
       "      <td>39</td>\n",
       "      <td>230</td>\n",
       "      <td>12</td>\n",
       "      <td>12</td>\n",
       "      <td>...</td>\n",
       "      <td>NaN</td>\n",
       "      <td>NaN</td>\n",
       "      <td>NaN</td>\n",
       "      <td>NaN</td>\n",
       "      <td>NaN</td>\n",
       "      <td>NaN</td>\n",
       "      <td>NaN</td>\n",
       "      <td>NaN</td>\n",
       "      <td>NaN</td>\n",
       "      <td>No</td>\n",
       "    </tr>\n",
       "    <tr>\n",
       "      <th>3</th>\n",
       "      <td>BENE11002</td>\n",
       "      <td>1936-09-01</td>\n",
       "      <td>NaN</td>\n",
       "      <td>2</td>\n",
       "      <td>1</td>\n",
       "      <td>0</td>\n",
       "      <td>39</td>\n",
       "      <td>280</td>\n",
       "      <td>12</td>\n",
       "      <td>12</td>\n",
       "      <td>...</td>\n",
       "      <td>NaN</td>\n",
       "      <td>NaN</td>\n",
       "      <td>NaN</td>\n",
       "      <td>NaN</td>\n",
       "      <td>NaN</td>\n",
       "      <td>NaN</td>\n",
       "      <td>NaN</td>\n",
       "      <td>NaN</td>\n",
       "      <td>NaN</td>\n",
       "      <td>NaN</td>\n",
       "    </tr>\n",
       "    <tr>\n",
       "      <th>4</th>\n",
       "      <td>BENE11003</td>\n",
       "      <td>1936-08-01</td>\n",
       "      <td>NaN</td>\n",
       "      <td>1</td>\n",
       "      <td>1</td>\n",
       "      <td>0</td>\n",
       "      <td>52</td>\n",
       "      <td>590</td>\n",
       "      <td>12</td>\n",
       "      <td>12</td>\n",
       "      <td>...</td>\n",
       "      <td>NaN</td>\n",
       "      <td>NaN</td>\n",
       "      <td>NaN</td>\n",
       "      <td>NaN</td>\n",
       "      <td>NaN</td>\n",
       "      <td>NaN</td>\n",
       "      <td>NaN</td>\n",
       "      <td>NaN</td>\n",
       "      <td>NaN</td>\n",
       "      <td>NaN</td>\n",
       "    </tr>\n",
       "  </tbody>\n",
       "</table>\n",
       "<p>5 rows × 79 columns</p>\n",
       "</div>"
      ],
      "text/plain": [
       "      BeneID         DOB  DOD  Gender  Race RenalDiseaseIndicator  State  \\\n",
       "0  BENE11001  1943-01-01  NaN       1     1                     0     39   \n",
       "1  BENE11001  1943-01-01  NaN       1     1                     0     39   \n",
       "2  BENE11001  1943-01-01  NaN       1     1                     0     39   \n",
       "3  BENE11002  1936-09-01  NaN       2     1                     0     39   \n",
       "4  BENE11003  1936-08-01  NaN       1     1                     0     52   \n",
       "\n",
       "   County  NoOfMonths_PartACov  NoOfMonths_PartBCov  ...  \\\n",
       "0     230                   12                   12  ...   \n",
       "1     230                   12                   12  ...   \n",
       "2     230                   12                   12  ...   \n",
       "3     280                   12                   12  ...   \n",
       "4     590                   12                   12  ...   \n",
       "\n",
       "   ClmDiagnosisCode_10_y  ClmProcedureCode_1_y  ClmProcedureCode_2_y  \\\n",
       "0                    NaN                   NaN                   NaN   \n",
       "1                    NaN                   NaN                   NaN   \n",
       "2                    NaN                   NaN                   NaN   \n",
       "3                    NaN                   NaN                   NaN   \n",
       "4                    NaN                   NaN                   NaN   \n",
       "\n",
       "   ClmProcedureCode_3_y  ClmProcedureCode_4_y  ClmProcedureCode_5_y  \\\n",
       "0                   NaN                   NaN                   NaN   \n",
       "1                   NaN                   NaN                   NaN   \n",
       "2                   NaN                   NaN                   NaN   \n",
       "3                   NaN                   NaN                   NaN   \n",
       "4                   NaN                   NaN                   NaN   \n",
       "\n",
       "   ClmProcedureCode_6_y  DeductibleAmtPaid_y  ClmAdmitDiagnosisCode_y  \\\n",
       "0                   NaN                  NaN                      NaN   \n",
       "1                   NaN                  NaN                      NaN   \n",
       "2                   NaN                  NaN                      NaN   \n",
       "3                   NaN                  NaN                      NaN   \n",
       "4                   NaN                  NaN                      NaN   \n",
       "\n",
       "   PotentialFraud  \n",
       "0             Yes  \n",
       "1              No  \n",
       "2              No  \n",
       "3             NaN  \n",
       "4             NaN  \n",
       "\n",
       "[5 rows x 79 columns]"
      ]
     },
     "execution_count": 9,
     "metadata": {},
     "output_type": "execute_result"
    }
   ],
   "source": [
    "df_train.head()"
   ]
  },
  {
   "cell_type": "code",
   "execution_count": 10,
   "metadata": {},
   "outputs": [
    {
     "data": {
      "text/html": [
       "<div>\n",
       "<style scoped>\n",
       "    .dataframe tbody tr th:only-of-type {\n",
       "        vertical-align: middle;\n",
       "    }\n",
       "\n",
       "    .dataframe tbody tr th {\n",
       "        vertical-align: top;\n",
       "    }\n",
       "\n",
       "    .dataframe thead th {\n",
       "        text-align: right;\n",
       "    }\n",
       "</style>\n",
       "<table border=\"1\" class=\"dataframe\">\n",
       "  <thead>\n",
       "    <tr style=\"text-align: right;\">\n",
       "      <th></th>\n",
       "      <th>BeneID</th>\n",
       "      <th>DOB</th>\n",
       "      <th>DOD</th>\n",
       "      <th>Gender</th>\n",
       "      <th>Race</th>\n",
       "      <th>RenalDiseaseIndicator</th>\n",
       "      <th>State</th>\n",
       "      <th>County</th>\n",
       "      <th>NoOfMonths_PartACov</th>\n",
       "      <th>NoOfMonths_PartBCov</th>\n",
       "      <th>...</th>\n",
       "      <th>ClmDiagnosisCode_9_y</th>\n",
       "      <th>ClmDiagnosisCode_10_y</th>\n",
       "      <th>ClmProcedureCode_1_y</th>\n",
       "      <th>ClmProcedureCode_2_y</th>\n",
       "      <th>ClmProcedureCode_3_y</th>\n",
       "      <th>ClmProcedureCode_4_y</th>\n",
       "      <th>ClmProcedureCode_5_y</th>\n",
       "      <th>ClmProcedureCode_6_y</th>\n",
       "      <th>DeductibleAmtPaid_y</th>\n",
       "      <th>ClmAdmitDiagnosisCode_y</th>\n",
       "    </tr>\n",
       "  </thead>\n",
       "  <tbody>\n",
       "    <tr>\n",
       "      <th>0</th>\n",
       "      <td>BENE11001</td>\n",
       "      <td>1943-01-01</td>\n",
       "      <td>NaN</td>\n",
       "      <td>1</td>\n",
       "      <td>1</td>\n",
       "      <td>0</td>\n",
       "      <td>39</td>\n",
       "      <td>230</td>\n",
       "      <td>12</td>\n",
       "      <td>12</td>\n",
       "      <td>...</td>\n",
       "      <td>NaN</td>\n",
       "      <td>NaN</td>\n",
       "      <td>NaN</td>\n",
       "      <td>NaN</td>\n",
       "      <td>NaN</td>\n",
       "      <td>NaN</td>\n",
       "      <td>NaN</td>\n",
       "      <td>NaN</td>\n",
       "      <td>NaN</td>\n",
       "      <td>NaN</td>\n",
       "    </tr>\n",
       "    <tr>\n",
       "      <th>1</th>\n",
       "      <td>BENE11007</td>\n",
       "      <td>1940-09-01</td>\n",
       "      <td>2009-12-01</td>\n",
       "      <td>1</td>\n",
       "      <td>2</td>\n",
       "      <td>0</td>\n",
       "      <td>45</td>\n",
       "      <td>610</td>\n",
       "      <td>12</td>\n",
       "      <td>12</td>\n",
       "      <td>...</td>\n",
       "      <td>NaN</td>\n",
       "      <td>NaN</td>\n",
       "      <td>NaN</td>\n",
       "      <td>NaN</td>\n",
       "      <td>NaN</td>\n",
       "      <td>NaN</td>\n",
       "      <td>NaN</td>\n",
       "      <td>NaN</td>\n",
       "      <td>NaN</td>\n",
       "      <td>NaN</td>\n",
       "    </tr>\n",
       "    <tr>\n",
       "      <th>2</th>\n",
       "      <td>BENE11010</td>\n",
       "      <td>1936-07-01</td>\n",
       "      <td>NaN</td>\n",
       "      <td>2</td>\n",
       "      <td>1</td>\n",
       "      <td>0</td>\n",
       "      <td>41</td>\n",
       "      <td>30</td>\n",
       "      <td>12</td>\n",
       "      <td>12</td>\n",
       "      <td>...</td>\n",
       "      <td>NaN</td>\n",
       "      <td>NaN</td>\n",
       "      <td>NaN</td>\n",
       "      <td>NaN</td>\n",
       "      <td>NaN</td>\n",
       "      <td>NaN</td>\n",
       "      <td>NaN</td>\n",
       "      <td>NaN</td>\n",
       "      <td>NaN</td>\n",
       "      <td>NaN</td>\n",
       "    </tr>\n",
       "    <tr>\n",
       "      <th>3</th>\n",
       "      <td>BENE11011</td>\n",
       "      <td>1914-03-01</td>\n",
       "      <td>NaN</td>\n",
       "      <td>2</td>\n",
       "      <td>2</td>\n",
       "      <td>0</td>\n",
       "      <td>1</td>\n",
       "      <td>360</td>\n",
       "      <td>12</td>\n",
       "      <td>12</td>\n",
       "      <td>...</td>\n",
       "      <td>NaN</td>\n",
       "      <td>NaN</td>\n",
       "      <td>NaN</td>\n",
       "      <td>NaN</td>\n",
       "      <td>NaN</td>\n",
       "      <td>NaN</td>\n",
       "      <td>NaN</td>\n",
       "      <td>NaN</td>\n",
       "      <td>NaN</td>\n",
       "      <td>NaN</td>\n",
       "    </tr>\n",
       "    <tr>\n",
       "      <th>4</th>\n",
       "      <td>BENE11014</td>\n",
       "      <td>1938-04-01</td>\n",
       "      <td>NaN</td>\n",
       "      <td>2</td>\n",
       "      <td>1</td>\n",
       "      <td>Y</td>\n",
       "      <td>45</td>\n",
       "      <td>780</td>\n",
       "      <td>12</td>\n",
       "      <td>12</td>\n",
       "      <td>...</td>\n",
       "      <td>NaN</td>\n",
       "      <td>NaN</td>\n",
       "      <td>NaN</td>\n",
       "      <td>NaN</td>\n",
       "      <td>NaN</td>\n",
       "      <td>NaN</td>\n",
       "      <td>NaN</td>\n",
       "      <td>NaN</td>\n",
       "      <td>NaN</td>\n",
       "      <td>NaN</td>\n",
       "    </tr>\n",
       "  </tbody>\n",
       "</table>\n",
       "<p>5 rows × 78 columns</p>\n",
       "</div>"
      ],
      "text/plain": [
       "      BeneID         DOB         DOD  Gender  Race RenalDiseaseIndicator  \\\n",
       "0  BENE11001  1943-01-01         NaN       1     1                     0   \n",
       "1  BENE11007  1940-09-01  2009-12-01       1     2                     0   \n",
       "2  BENE11010  1936-07-01         NaN       2     1                     0   \n",
       "3  BENE11011  1914-03-01         NaN       2     2                     0   \n",
       "4  BENE11014  1938-04-01         NaN       2     1                     Y   \n",
       "\n",
       "   State  County  NoOfMonths_PartACov  NoOfMonths_PartBCov  ...  \\\n",
       "0     39     230                   12                   12  ...   \n",
       "1     45     610                   12                   12  ...   \n",
       "2     41      30                   12                   12  ...   \n",
       "3      1     360                   12                   12  ...   \n",
       "4     45     780                   12                   12  ...   \n",
       "\n",
       "   ClmDiagnosisCode_9_y  ClmDiagnosisCode_10_y  ClmProcedureCode_1_y  \\\n",
       "0                   NaN                    NaN                   NaN   \n",
       "1                   NaN                    NaN                   NaN   \n",
       "2                   NaN                    NaN                   NaN   \n",
       "3                   NaN                    NaN                   NaN   \n",
       "4                   NaN                    NaN                   NaN   \n",
       "\n",
       "   ClmProcedureCode_2_y  ClmProcedureCode_3_y  ClmProcedureCode_4_y  \\\n",
       "0                   NaN                   NaN                   NaN   \n",
       "1                   NaN                   NaN                   NaN   \n",
       "2                   NaN                   NaN                   NaN   \n",
       "3                   NaN                   NaN                   NaN   \n",
       "4                   NaN                   NaN                   NaN   \n",
       "\n",
       "   ClmProcedureCode_5_y  ClmProcedureCode_6_y  DeductibleAmtPaid_y  \\\n",
       "0                   NaN                   NaN                  NaN   \n",
       "1                   NaN                   NaN                  NaN   \n",
       "2                   NaN                   NaN                  NaN   \n",
       "3                   NaN                   NaN                  NaN   \n",
       "4                   NaN                   NaN                  NaN   \n",
       "\n",
       "   ClmAdmitDiagnosisCode_y  \n",
       "0                      NaN  \n",
       "1                      NaN  \n",
       "2                      NaN  \n",
       "3                      NaN  \n",
       "4                      NaN  \n",
       "\n",
       "[5 rows x 78 columns]"
      ]
     },
     "execution_count": 10,
     "metadata": {},
     "output_type": "execute_result"
    }
   ],
   "source": [
    "df_test.head()"
   ]
  },
  {
   "cell_type": "code",
   "execution_count": null,
   "metadata": {},
   "outputs": [],
   "source": []
  },
  {
   "cell_type": "markdown",
   "metadata": {},
   "source": [
    "#### Add the **number_of_claims** features"
   ]
  },
  {
   "cell_type": "code",
   "execution_count": 11,
   "metadata": {},
   "outputs": [
    {
     "data": {
      "text/plain": [
       "Index(['BeneID', 'DOB', 'DOD', 'Gender', 'Race', 'RenalDiseaseIndicator',\n",
       "       'State', 'County', 'NoOfMonths_PartACov', 'NoOfMonths_PartBCov',\n",
       "       'ChronicCond_Alzheimer', 'ChronicCond_Heartfailure',\n",
       "       'ChronicCond_KidneyDisease', 'ChronicCond_Cancer',\n",
       "       'ChronicCond_ObstrPulmonary', 'ChronicCond_Depression',\n",
       "       'ChronicCond_Diabetes', 'ChronicCond_IschemicHeart',\n",
       "       'ChronicCond_Osteoporasis', 'ChronicCond_rheumatoidarthritis',\n",
       "       'ChronicCond_stroke', 'IPAnnualReimbursementAmt',\n",
       "       'IPAnnualDeductibleAmt', 'OPAnnualReimbursementAmt',\n",
       "       'OPAnnualDeductibleAmt', 'ClaimID', 'ClaimStartDt_x', 'ClaimEndDt_x',\n",
       "       'Provider', 'InscClaimAmtReimbursed_x', 'AttendingPhysician_x',\n",
       "       'OperatingPhysician_x', 'OtherPhysician_x', 'AdmissionDt',\n",
       "       'ClmAdmitDiagnosisCode_x', 'DeductibleAmtPaid_x', 'DischargeDt',\n",
       "       'DiagnosisGroupCode', 'ClmDiagnosisCode_1_x', 'ClmDiagnosisCode_2_x',\n",
       "       'ClmDiagnosisCode_3_x', 'ClmDiagnosisCode_4_x', 'ClmDiagnosisCode_5_x',\n",
       "       'ClmDiagnosisCode_6_x', 'ClmDiagnosisCode_7_x', 'ClmDiagnosisCode_8_x',\n",
       "       'ClmDiagnosisCode_9_x', 'ClmDiagnosisCode_10_x', 'ClmProcedureCode_1_x',\n",
       "       'ClmProcedureCode_2_x', 'ClmProcedureCode_3_x', 'ClmProcedureCode_4_x',\n",
       "       'ClmProcedureCode_5_x', 'ClmProcedureCode_6_x', 'ClaimStartDt_y',\n",
       "       'ClaimEndDt_y', 'InscClaimAmtReimbursed_y', 'AttendingPhysician_y',\n",
       "       'OperatingPhysician_y', 'OtherPhysician_y', 'ClmDiagnosisCode_1_y',\n",
       "       'ClmDiagnosisCode_2_y', 'ClmDiagnosisCode_3_y', 'ClmDiagnosisCode_4_y',\n",
       "       'ClmDiagnosisCode_5_y', 'ClmDiagnosisCode_6_y', 'ClmDiagnosisCode_7_y',\n",
       "       'ClmDiagnosisCode_8_y', 'ClmDiagnosisCode_9_y', 'ClmDiagnosisCode_10_y',\n",
       "       'ClmProcedureCode_1_y', 'ClmProcedureCode_2_y', 'ClmProcedureCode_3_y',\n",
       "       'ClmProcedureCode_4_y', 'ClmProcedureCode_5_y', 'ClmProcedureCode_6_y',\n",
       "       'DeductibleAmtPaid_y', 'ClmAdmitDiagnosisCode_y', 'PotentialFraud'],\n",
       "      dtype='object')"
      ]
     },
     "execution_count": 11,
     "metadata": {},
     "output_type": "execute_result"
    }
   ],
   "source": [
    "df_train.columns"
   ]
  },
  {
   "cell_type": "code",
   "execution_count": null,
   "metadata": {},
   "outputs": [],
   "source": []
  },
  {
   "cell_type": "markdown",
   "metadata": {},
   "source": [
    "#### Process **ClmDiagnosisCode_{i}_x** feature"
   ]
  },
  {
   "cell_type": "code",
   "execution_count": 12,
   "metadata": {},
   "outputs": [
    {
     "name": "stdout",
     "output_type": "stream",
     "text": [
      "Features to be processed: \n",
      "['ClmDiagnosisCode_1_x', 'ClmDiagnosisCode_2_x', 'ClmDiagnosisCode_3_x', 'ClmDiagnosisCode_4_x', 'ClmDiagnosisCode_5_x', 'ClmDiagnosisCode_6_x', 'ClmDiagnosisCode_7_x', 'ClmDiagnosisCode_8_x', 'ClmDiagnosisCode_9_x', 'ClmDiagnosisCode_10_x']\n"
     ]
    }
   ],
   "source": [
    "columns_to_process = ['ClmDiagnosisCode_{}_x'.format(i) for i in range(1, 11)]\n",
    "print(f'Features to be processed: \\n{columns_to_process}')\n",
    "\n",
    "df_train[columns_to_process] = df_train[columns_to_process].notna().astype('int64')\n",
    "\n",
    "# Sum number of claims\n",
    "df_train['num_claim_diagnose_in'] = df_train[columns_to_process].sum(axis=1)\n",
    "\n",
    "# Drop columns of claim code.\n",
    "df_train.drop(columns=columns_to_process, axis=1, inplace=True)"
   ]
  },
  {
   "cell_type": "code",
   "execution_count": 13,
   "metadata": {},
   "outputs": [
    {
     "data": {
      "text/plain": [
       "(147741, 70)"
      ]
     },
     "execution_count": 13,
     "metadata": {},
     "output_type": "execute_result"
    }
   ],
   "source": [
    "df_train.shape"
   ]
  },
  {
   "cell_type": "code",
   "execution_count": 14,
   "metadata": {},
   "outputs": [
    {
     "name": "stdout",
     "output_type": "stream",
     "text": [
      "Features to be processed: \n",
      "['ClmDiagnosisCode_1_x', 'ClmDiagnosisCode_2_x', 'ClmDiagnosisCode_3_x', 'ClmDiagnosisCode_4_x', 'ClmDiagnosisCode_5_x', 'ClmDiagnosisCode_6_x', 'ClmDiagnosisCode_7_x', 'ClmDiagnosisCode_8_x', 'ClmDiagnosisCode_9_x', 'ClmDiagnosisCode_10_x']\n"
     ]
    }
   ],
   "source": [
    "columns_to_process = ['ClmDiagnosisCode_{}_x'.format(i) for i in range(1, 11)]\n",
    "print(f'Features to be processed: \\n{columns_to_process}')\n",
    "\n",
    "df_test[columns_to_process] = df_test[columns_to_process].notna().astype('int64')\n",
    "\n",
    "# Sum number of claims\n",
    "df_test['num_claim_diagnose_in'] = df_test[columns_to_process].sum(axis=1)\n",
    "\n",
    "# Drop columns of claim code\n",
    "df_test.drop(columns=columns_to_process, axis=1, inplace=True)"
   ]
  },
  {
   "cell_type": "code",
   "execution_count": 15,
   "metadata": {},
   "outputs": [
    {
     "data": {
      "text/plain": [
       "(65168, 69)"
      ]
     },
     "execution_count": 15,
     "metadata": {},
     "output_type": "execute_result"
    }
   ],
   "source": [
    "df_test.shape"
   ]
  },
  {
   "cell_type": "code",
   "execution_count": null,
   "metadata": {},
   "outputs": [],
   "source": []
  },
  {
   "cell_type": "code",
   "execution_count": null,
   "metadata": {},
   "outputs": [],
   "source": []
  },
  {
   "cell_type": "markdown",
   "metadata": {},
   "source": [
    "#### Process **ClmDiagnosisCode_{i}_y** feature"
   ]
  },
  {
   "cell_type": "code",
   "execution_count": 16,
   "metadata": {},
   "outputs": [
    {
     "name": "stdout",
     "output_type": "stream",
     "text": [
      "Features to be processed: \n",
      "['ClmDiagnosisCode_1_y', 'ClmDiagnosisCode_2_y', 'ClmDiagnosisCode_3_y', 'ClmDiagnosisCode_4_y', 'ClmDiagnosisCode_5_y', 'ClmDiagnosisCode_6_y', 'ClmDiagnosisCode_7_y', 'ClmDiagnosisCode_8_y', 'ClmDiagnosisCode_9_y', 'ClmDiagnosisCode_10_y']\n"
     ]
    }
   ],
   "source": [
    "columns_to_process = ['ClmDiagnosisCode_{}_y'.format(i) for i in range(1, 11)]\n",
    "print(f'Features to be processed: \\n{columns_to_process}')\n",
    "\n",
    "df_train[columns_to_process] = df_train[columns_to_process].notna().astype('int64')\n",
    "\n",
    "# Sum number of claims\n",
    "df_train['num_claim_diagnose_out'] = df_train[columns_to_process].sum(axis=1)\n",
    "\n",
    "# Drop columns of claim codes\n",
    "df_train.drop(columns=columns_to_process, inplace=True)"
   ]
  },
  {
   "cell_type": "code",
   "execution_count": 17,
   "metadata": {},
   "outputs": [
    {
     "data": {
      "text/plain": [
       "(147741, 61)"
      ]
     },
     "execution_count": 17,
     "metadata": {},
     "output_type": "execute_result"
    }
   ],
   "source": [
    "df_train.shape"
   ]
  },
  {
   "cell_type": "code",
   "execution_count": 18,
   "metadata": {},
   "outputs": [
    {
     "name": "stdout",
     "output_type": "stream",
     "text": [
      "Features to be processed: \n",
      "['ClmDiagnosisCode_1_y', 'ClmDiagnosisCode_2_y', 'ClmDiagnosisCode_3_y', 'ClmDiagnosisCode_4_y', 'ClmDiagnosisCode_5_y', 'ClmDiagnosisCode_6_y', 'ClmDiagnosisCode_7_y', 'ClmDiagnosisCode_8_y', 'ClmDiagnosisCode_9_y', 'ClmDiagnosisCode_10_y']\n"
     ]
    }
   ],
   "source": [
    "columns_to_process = ['ClmDiagnosisCode_{}_y'.format(i) for i in range(1, 11)]\n",
    "print(f'Features to be processed: \\n{columns_to_process}')\n",
    "\n",
    "df_test[columns_to_process] = df_test[columns_to_process].notna().astype('int64')\n",
    "\n",
    "# Sum number of claims\n",
    "df_test['num_claim_diagnose_out'] = df_test[columns_to_process].sum(axis=1)\n",
    "\n",
    "# Drop columns of claim codes\n",
    "df_test.drop(columns=columns_to_process, inplace=True)"
   ]
  },
  {
   "cell_type": "code",
   "execution_count": 19,
   "metadata": {},
   "outputs": [
    {
     "data": {
      "text/plain": [
       "(65168, 60)"
      ]
     },
     "execution_count": 19,
     "metadata": {},
     "output_type": "execute_result"
    }
   ],
   "source": [
    "df_test.shape "
   ]
  },
  {
   "cell_type": "code",
   "execution_count": null,
   "metadata": {},
   "outputs": [],
   "source": []
  },
  {
   "cell_type": "markdown",
   "metadata": {},
   "source": [
    "#### Process **ClmProcedureCode_{i}_x** feature"
   ]
  },
  {
   "cell_type": "code",
   "execution_count": 20,
   "metadata": {},
   "outputs": [
    {
     "name": "stdout",
     "output_type": "stream",
     "text": [
      "Features to be processed: \n",
      "['ClmProcedureCode_1_x', 'ClmProcedureCode_2_x', 'ClmProcedureCode_3_x', 'ClmProcedureCode_4_x', 'ClmProcedureCode_5_x', 'ClmProcedureCode_6_x']\n"
     ]
    }
   ],
   "source": [
    "columns_to_process = ['ClmProcedureCode_{}_x'.format(i) for i in range(1, 7)]\n",
    "print(f'Features to be processed: \\n{columns_to_process}')\n",
    "\n",
    "df_train[columns_to_process] = df_train[columns_to_process].notna().astype('int64')\n",
    "\n",
    "# Sum number of claims\n",
    "df_train['num_claim_procedure_in'] = df_train[columns_to_process].sum(axis=1)\n",
    "\n",
    "# Drop columns of claim codes\n",
    "df_train.drop(columns=columns_to_process, inplace=True)"
   ]
  },
  {
   "cell_type": "code",
   "execution_count": 21,
   "metadata": {},
   "outputs": [
    {
     "data": {
      "text/plain": [
       "(147741, 56)"
      ]
     },
     "execution_count": 21,
     "metadata": {},
     "output_type": "execute_result"
    }
   ],
   "source": [
    "df_train.shape"
   ]
  },
  {
   "cell_type": "code",
   "execution_count": 22,
   "metadata": {},
   "outputs": [
    {
     "name": "stdout",
     "output_type": "stream",
     "text": [
      "Features to be processed: \n",
      "['ClmProcedureCode_1_x', 'ClmProcedureCode_2_x', 'ClmProcedureCode_3_x', 'ClmProcedureCode_4_x', 'ClmProcedureCode_5_x', 'ClmProcedureCode_6_x']\n"
     ]
    }
   ],
   "source": [
    "columns_to_process = ['ClmProcedureCode_{}_x'.format(i) for i in range(1, 7)]\n",
    "print(f'Features to be processed: \\n{columns_to_process}')\n",
    "\n",
    "df_test[columns_to_process] = df_test[columns_to_process].notna().astype('int64')\n",
    "\n",
    "# Sum number of claims\n",
    "df_test['num_claim_procedure_in'] = df_test[columns_to_process].sum(axis=1)\n",
    "\n",
    "# Drop columns of claim codes\n",
    "df_test.drop(columns=columns_to_process, inplace=True)"
   ]
  },
  {
   "cell_type": "code",
   "execution_count": 23,
   "metadata": {},
   "outputs": [
    {
     "data": {
      "text/plain": [
       "(65168, 55)"
      ]
     },
     "execution_count": 23,
     "metadata": {},
     "output_type": "execute_result"
    }
   ],
   "source": [
    "df_test.shape "
   ]
  },
  {
   "cell_type": "code",
   "execution_count": null,
   "metadata": {},
   "outputs": [],
   "source": []
  },
  {
   "cell_type": "markdown",
   "metadata": {},
   "source": [
    "#### Process **ClmProcedureCode_{i}_y** feature"
   ]
  },
  {
   "cell_type": "code",
   "execution_count": 24,
   "metadata": {},
   "outputs": [
    {
     "name": "stdout",
     "output_type": "stream",
     "text": [
      "Features to be processed: \n",
      "['ClmProcedureCode_1_y', 'ClmProcedureCode_2_y', 'ClmProcedureCode_3_y', 'ClmProcedureCode_4_y', 'ClmProcedureCode_5_y', 'ClmProcedureCode_6_y']\n"
     ]
    }
   ],
   "source": [
    "columns_to_process = ['ClmProcedureCode_{}_y'.format(i) for i in range(1, 7)]\n",
    "print(f'Features to be processed: \\n{columns_to_process}')\n",
    "\n",
    "df_train[columns_to_process] = df_train[columns_to_process].notna().astype('int64')\n",
    "\n",
    "# Sum number of claims\n",
    "df_train['num_claim_procedure_out'] = df_train[columns_to_process].sum(axis=1)\n",
    "\n",
    "# Drop columns of claim codes\n",
    "df_train.drop(columns=columns_to_process, inplace=True)"
   ]
  },
  {
   "cell_type": "code",
   "execution_count": 25,
   "metadata": {},
   "outputs": [
    {
     "data": {
      "text/plain": [
       "(147741, 51)"
      ]
     },
     "execution_count": 25,
     "metadata": {},
     "output_type": "execute_result"
    }
   ],
   "source": [
    "df_train.shape"
   ]
  },
  {
   "cell_type": "code",
   "execution_count": 26,
   "metadata": {},
   "outputs": [
    {
     "name": "stdout",
     "output_type": "stream",
     "text": [
      "Features to be processed: \n",
      "['ClmProcedureCode_1_y', 'ClmProcedureCode_2_y', 'ClmProcedureCode_3_y', 'ClmProcedureCode_4_y', 'ClmProcedureCode_5_y', 'ClmProcedureCode_6_y']\n"
     ]
    }
   ],
   "source": [
    "columns_to_process = ['ClmProcedureCode_{}_y'.format(i) for i in range(1, 7)]\n",
    "print(f'Features to be processed: \\n{columns_to_process}')\n",
    "\n",
    "df_test[columns_to_process] = df_test[columns_to_process].notna().astype('int64')\n",
    "\n",
    "# Sum number of claims\n",
    "df_test['num_claim_procedure_out'] = df_test[columns_to_process].sum(axis=1)\n",
    "\n",
    "# Drop columns of claim codes\n",
    "df_test.drop(columns=columns_to_process, inplace=True)"
   ]
  },
  {
   "cell_type": "code",
   "execution_count": 27,
   "metadata": {},
   "outputs": [
    {
     "data": {
      "text/plain": [
       "(65168, 50)"
      ]
     },
     "execution_count": 27,
     "metadata": {},
     "output_type": "execute_result"
    }
   ],
   "source": [
    "df_test.shape "
   ]
  },
  {
   "cell_type": "code",
   "execution_count": null,
   "metadata": {},
   "outputs": [],
   "source": []
  },
  {
   "cell_type": "markdown",
   "metadata": {},
   "source": [
    "#### Process **Attending_Physician**, **Operating_Physician** and **Other_Physician**"
   ]
  },
  {
   "cell_type": "code",
   "execution_count": 28,
   "metadata": {},
   "outputs": [
    {
     "name": "stdout",
     "output_type": "stream",
     "text": [
      "Features to be processed: \n",
      "['AttendingPhysician_x', 'OperatingPhysician_x', 'OtherPhysician_x', 'AttendingPhysician_y', 'OperatingPhysician_y', 'OtherPhysician_y']\n"
     ]
    }
   ],
   "source": [
    "columns_to_process = ['AttendingPhysician_x', 'OperatingPhysician_x', 'OtherPhysician_x', 'AttendingPhysician_y', 'OperatingPhysician_y', 'OtherPhysician_y']\n",
    "\n",
    "print(f'Features to be processed: \\n{columns_to_process}')\n",
    "\n",
    "df_train[columns_to_process] = df_train[columns_to_process].notna().astype('int64')"
   ]
  },
  {
   "cell_type": "code",
   "execution_count": 29,
   "metadata": {},
   "outputs": [
    {
     "data": {
      "text/plain": [
       "array(['0', 'Y'], dtype=object)"
      ]
     },
     "execution_count": 29,
     "metadata": {},
     "output_type": "execute_result"
    }
   ],
   "source": [
    "df_train['RenalDiseaseIndicator'].unique()"
   ]
  },
  {
   "cell_type": "code",
   "execution_count": 30,
   "metadata": {},
   "outputs": [
    {
     "name": "stdout",
     "output_type": "stream",
     "text": [
      "Features to be processed: \n",
      "['AttendingPhysician_x', 'OperatingPhysician_x', 'OtherPhysician_x', 'AttendingPhysician_y', 'OperatingPhysician_y', 'OtherPhysician_y']\n"
     ]
    }
   ],
   "source": [
    "columns_to_process = ['AttendingPhysician_x', 'OperatingPhysician_x', 'OtherPhysician_x', 'AttendingPhysician_y', 'OperatingPhysician_y', 'OtherPhysician_y']\n",
    "\n",
    "print(f'Features to be processed: \\n{columns_to_process}')\n",
    "\n",
    "df_test[columns_to_process] = df_test[columns_to_process].notna().astype('int64')"
   ]
  },
  {
   "cell_type": "code",
   "execution_count": 31,
   "metadata": {},
   "outputs": [
    {
     "data": {
      "text/plain": [
       "array(['0', 'Y'], dtype=object)"
      ]
     },
     "execution_count": 31,
     "metadata": {},
     "output_type": "execute_result"
    }
   ],
   "source": [
    "df_test['RenalDiseaseIndicator'].unique()"
   ]
  },
  {
   "cell_type": "code",
   "execution_count": 32,
   "metadata": {},
   "outputs": [],
   "source": [
    "df_train.dropna(subset=['RenalDiseaseIndicator'], inplace=True)\n",
    "df_test.dropna(subset=['RenalDiseaseIndicator'], inplace=True)"
   ]
  },
  {
   "cell_type": "code",
   "execution_count": null,
   "metadata": {},
   "outputs": [],
   "source": []
  },
  {
   "cell_type": "markdown",
   "metadata": {},
   "source": [
    "#### Convert **Chronic_condition** classes from **(1, 2)** to **(1, 0)**"
   ]
  },
  {
   "cell_type": "code",
   "execution_count": 33,
   "metadata": {},
   "outputs": [],
   "source": [
    "# For all the Chronic condition, we have two classes: 1 and 2. Here, we will replace 2 by 0.\n",
    "df_train = df_train.replace({'ChronicCond_Alzheimer': 2, 'ChronicCond_Heartfailure': 2, \n",
    "                            'ChronicCond_KidneyDisease': 2, 'ChronicCond_Cancer': 2, \n",
    "                            'ChronicCond_ObstrPulmonary': 2, 'ChronicCond_Depression': 2, \n",
    "                            'ChronicCond_Diabetes': 2, 'ChronicCond_IschemicHeart': 2, \n",
    "                            'ChronicCond_Osteoporasis': 2, 'ChronicCond_rheumatoidarthritis': 2, \n",
    "                            'ChronicCond_stroke': 2}, 0)\n",
    "\n",
    "df_train = df_train.replace({'RenalDiseaseIndicator': 'Y'}, 1)\n",
    "df_train['RenalDiseaseIndicator'] = df_train['RenalDiseaseIndicator'].astype('int64')"
   ]
  },
  {
   "cell_type": "code",
   "execution_count": 34,
   "metadata": {},
   "outputs": [
    {
     "data": {
      "text/plain": [
       "(147741, 51)"
      ]
     },
     "execution_count": 34,
     "metadata": {},
     "output_type": "execute_result"
    }
   ],
   "source": [
    "df_train.shape"
   ]
  },
  {
   "cell_type": "code",
   "execution_count": 35,
   "metadata": {},
   "outputs": [],
   "source": [
    "df_test = df_test.replace({'ChronicCond_Alzheimer': 2, 'ChronicCond_Heartfailure': 2,\n",
    "                            'ChronicCond_KidneyDisease': 2, 'ChronicCond_Cancer': 2,\n",
    "                            'ChronicCond_ObstrPulmonary': 2, 'ChronicCond_Depression': 2,\n",
    "                            'ChronicCond_Diabetes': 2, 'ChronicCond_IschemicHeart': 2,\n",
    "                            'ChronicCond_Osteoporasis': 2, 'ChronicCond_rheumatoidarthritis': 2,\n",
    "                            'ChronicCond_stroke': 2}, 0)\n",
    "\n",
    "df_test = df_test.replace({'RenalDiseaseIndicator': 'Y'}, 1)\n",
    "df_test['RenalDiseaseIndicator'] = df_test['RenalDiseaseIndicator'].astype('int64')"
   ]
  },
  {
   "cell_type": "code",
   "execution_count": 36,
   "metadata": {},
   "outputs": [
    {
     "data": {
      "text/plain": [
       "(65168, 50)"
      ]
     },
     "execution_count": 36,
     "metadata": {},
     "output_type": "execute_result"
    }
   ],
   "source": [
    "df_test.shape"
   ]
  },
  {
   "cell_type": "code",
   "execution_count": null,
   "metadata": {},
   "outputs": [],
   "source": []
  },
  {
   "cell_type": "code",
   "execution_count": 37,
   "metadata": {},
   "outputs": [
    {
     "data": {
      "text/plain": [
       "BeneID                              object\n",
       "DOB                                 object\n",
       "DOD                                 object\n",
       "Gender                               int64\n",
       "Race                                 int64\n",
       "RenalDiseaseIndicator                int64\n",
       "State                                int64\n",
       "County                               int64\n",
       "NoOfMonths_PartACov                  int64\n",
       "NoOfMonths_PartBCov                  int64\n",
       "ChronicCond_Alzheimer                int64\n",
       "ChronicCond_Heartfailure             int64\n",
       "ChronicCond_KidneyDisease            int64\n",
       "ChronicCond_Cancer                   int64\n",
       "ChronicCond_ObstrPulmonary           int64\n",
       "ChronicCond_Depression               int64\n",
       "ChronicCond_Diabetes                 int64\n",
       "ChronicCond_IschemicHeart            int64\n",
       "ChronicCond_Osteoporasis             int64\n",
       "ChronicCond_rheumatoidarthritis      int64\n",
       "ChronicCond_stroke                   int64\n",
       "IPAnnualReimbursementAmt             int64\n",
       "IPAnnualDeductibleAmt                int64\n",
       "OPAnnualReimbursementAmt             int64\n",
       "OPAnnualDeductibleAmt                int64\n",
       "ClaimID                             object\n",
       "ClaimStartDt_x                      object\n",
       "ClaimEndDt_x                        object\n",
       "Provider                            object\n",
       "InscClaimAmtReimbursed_x           float64\n",
       "AttendingPhysician_x                 int64\n",
       "OperatingPhysician_x                 int64\n",
       "OtherPhysician_x                     int64\n",
       "AdmissionDt                         object\n",
       "ClmAdmitDiagnosisCode_x             object\n",
       "DeductibleAmtPaid_x                float64\n",
       "DischargeDt                         object\n",
       "DiagnosisGroupCode                  object\n",
       "ClaimStartDt_y                      object\n",
       "ClaimEndDt_y                        object\n",
       "InscClaimAmtReimbursed_y           float64\n",
       "AttendingPhysician_y                 int64\n",
       "OperatingPhysician_y                 int64\n",
       "OtherPhysician_y                     int64\n",
       "DeductibleAmtPaid_y                float64\n",
       "ClmAdmitDiagnosisCode_y             object\n",
       "PotentialFraud                      object\n",
       "num_claim_diagnose_in                int64\n",
       "num_claim_diagnose_out               int64\n",
       "num_claim_procedure_in               int64\n",
       "num_claim_procedure_out              int64\n",
       "dtype: object"
      ]
     },
     "execution_count": 37,
     "metadata": {},
     "output_type": "execute_result"
    }
   ],
   "source": [
    "df_train.dtypes"
   ]
  },
  {
   "cell_type": "code",
   "execution_count": 38,
   "metadata": {},
   "outputs": [
    {
     "data": {
      "text/plain": [
       "BeneID                              object\n",
       "DOB                                 object\n",
       "DOD                                 object\n",
       "Gender                               int64\n",
       "Race                                 int64\n",
       "RenalDiseaseIndicator                int64\n",
       "State                                int64\n",
       "County                               int64\n",
       "NoOfMonths_PartACov                  int64\n",
       "NoOfMonths_PartBCov                  int64\n",
       "ChronicCond_Alzheimer                int64\n",
       "ChronicCond_Heartfailure             int64\n",
       "ChronicCond_KidneyDisease            int64\n",
       "ChronicCond_Cancer                   int64\n",
       "ChronicCond_ObstrPulmonary           int64\n",
       "ChronicCond_Depression               int64\n",
       "ChronicCond_Diabetes                 int64\n",
       "ChronicCond_IschemicHeart            int64\n",
       "ChronicCond_Osteoporasis             int64\n",
       "ChronicCond_rheumatoidarthritis      int64\n",
       "ChronicCond_stroke                   int64\n",
       "IPAnnualReimbursementAmt             int64\n",
       "IPAnnualDeductibleAmt                int64\n",
       "OPAnnualReimbursementAmt             int64\n",
       "OPAnnualDeductibleAmt                int64\n",
       "ClaimID                             object\n",
       "ClaimStartDt_x                      object\n",
       "ClaimEndDt_x                        object\n",
       "Provider                            object\n",
       "InscClaimAmtReimbursed_x           float64\n",
       "AttendingPhysician_x                 int64\n",
       "OperatingPhysician_x                 int64\n",
       "OtherPhysician_x                     int64\n",
       "AdmissionDt                         object\n",
       "ClmAdmitDiagnosisCode_x             object\n",
       "DeductibleAmtPaid_x                float64\n",
       "DischargeDt                         object\n",
       "DiagnosisGroupCode                  object\n",
       "ClaimStartDt_y                      object\n",
       "ClaimEndDt_y                        object\n",
       "InscClaimAmtReimbursed_y           float64\n",
       "AttendingPhysician_y                 int64\n",
       "OperatingPhysician_y                 int64\n",
       "OtherPhysician_y                     int64\n",
       "DeductibleAmtPaid_y                float64\n",
       "ClmAdmitDiagnosisCode_y             object\n",
       "num_claim_diagnose_in                int64\n",
       "num_claim_diagnose_out               int64\n",
       "num_claim_procedure_in               int64\n",
       "num_claim_procedure_out              int64\n",
       "dtype: object"
      ]
     },
     "execution_count": 38,
     "metadata": {},
     "output_type": "execute_result"
    }
   ],
   "source": [
    "df_test.dtypes"
   ]
  },
  {
   "cell_type": "code",
   "execution_count": 39,
   "metadata": {},
   "outputs": [
    {
     "data": {
      "text/plain": [
       "((147741, 51), (65168, 50))"
      ]
     },
     "execution_count": 39,
     "metadata": {},
     "output_type": "execute_result"
    }
   ],
   "source": [
    "df_train.shape, df_test.shape"
   ]
  },
  {
   "cell_type": "code",
   "execution_count": 40,
   "metadata": {},
   "outputs": [
    {
     "data": {
      "text/plain": [
       "(520, 50)"
      ]
     },
     "execution_count": 40,
     "metadata": {},
     "output_type": "execute_result"
    }
   ],
   "source": [
    "a = df_test.groupby(['Provider'],as_index=False).agg('sum')\n",
    "a.shape"
   ]
  },
  {
   "cell_type": "code",
   "execution_count": 41,
   "metadata": {},
   "outputs": [
    {
     "data": {
      "text/plain": [
       "520"
      ]
     },
     "execution_count": 41,
     "metadata": {},
     "output_type": "execute_result"
    }
   ],
   "source": [
    "df_test[\"Provider\"].nunique()"
   ]
  },
  {
   "cell_type": "code",
   "execution_count": null,
   "metadata": {},
   "outputs": [],
   "source": []
  },
  {
   "cell_type": "code",
   "execution_count": 42,
   "metadata": {},
   "outputs": [
    {
     "data": {
      "text/plain": [
       "(2092, 47)"
      ]
     },
     "execution_count": 42,
     "metadata": {},
     "output_type": "execute_result"
    }
   ],
   "source": [
    "df_train = df_train.groupby(['Provider', 'PotentialFraud'],as_index=False).agg('sum')\n",
    "df_train.drop(columns = ['Gender', 'Race', 'State', 'County'], inplace = True, axis = 1)\n",
    "df_train.shape"
   ]
  },
  {
   "cell_type": "code",
   "execution_count": 43,
   "metadata": {},
   "outputs": [
    {
     "data": {
      "text/plain": [
       "(520, 46)"
      ]
     },
     "execution_count": 43,
     "metadata": {},
     "output_type": "execute_result"
    }
   ],
   "source": [
    "df_test = df_test.groupby(['Provider'],as_index=False).agg('sum')\n",
    "df_test.drop(columns = ['Gender', 'Race', 'State', 'County'], inplace = True, axis = 1)\n",
    "df_test.shape"
   ]
  },
  {
   "cell_type": "code",
   "execution_count": 44,
   "metadata": {},
   "outputs": [
    {
     "data": {
      "text/plain": [
       "Index(['Provider', 'PotentialFraud', 'BeneID', 'DOB', 'DOD',\n",
       "       'RenalDiseaseIndicator', 'NoOfMonths_PartACov', 'NoOfMonths_PartBCov',\n",
       "       'ChronicCond_Alzheimer', 'ChronicCond_Heartfailure',\n",
       "       'ChronicCond_KidneyDisease', 'ChronicCond_Cancer',\n",
       "       'ChronicCond_ObstrPulmonary', 'ChronicCond_Depression',\n",
       "       'ChronicCond_Diabetes', 'ChronicCond_IschemicHeart',\n",
       "       'ChronicCond_Osteoporasis', 'ChronicCond_rheumatoidarthritis',\n",
       "       'ChronicCond_stroke', 'IPAnnualReimbursementAmt',\n",
       "       'IPAnnualDeductibleAmt', 'OPAnnualReimbursementAmt',\n",
       "       'OPAnnualDeductibleAmt', 'ClaimID', 'ClaimStartDt_x', 'ClaimEndDt_x',\n",
       "       'InscClaimAmtReimbursed_x', 'AttendingPhysician_x',\n",
       "       'OperatingPhysician_x', 'OtherPhysician_x', 'AdmissionDt',\n",
       "       'ClmAdmitDiagnosisCode_x', 'DeductibleAmtPaid_x', 'DischargeDt',\n",
       "       'DiagnosisGroupCode', 'ClaimStartDt_y', 'ClaimEndDt_y',\n",
       "       'InscClaimAmtReimbursed_y', 'AttendingPhysician_y',\n",
       "       'OperatingPhysician_y', 'OtherPhysician_y', 'DeductibleAmtPaid_y',\n",
       "       'ClmAdmitDiagnosisCode_y', 'num_claim_diagnose_in',\n",
       "       'num_claim_diagnose_out', 'num_claim_procedure_in',\n",
       "       'num_claim_procedure_out'],\n",
       "      dtype='object')"
      ]
     },
     "execution_count": 44,
     "metadata": {},
     "output_type": "execute_result"
    }
   ],
   "source": [
    "df_train.columns"
   ]
  },
  {
   "cell_type": "code",
   "execution_count": null,
   "metadata": {},
   "outputs": [],
   "source": []
  },
  {
   "cell_type": "markdown",
   "metadata": {},
   "source": [
    "#### Rename Columns ending with **x**"
   ]
  },
  {
   "cell_type": "code",
   "execution_count": 45,
   "metadata": {},
   "outputs": [],
   "source": [
    "# Define a function to rename columns ending with '_x'\n",
    "\n",
    "\n",
    "def rename_columns(column_name):\n",
    "    if column_name.endswith('_x'):\n",
    "        return column_name[:-2] + '_In'\n",
    "    else:\n",
    "        return column_name"
   ]
  },
  {
   "cell_type": "code",
   "execution_count": 46,
   "metadata": {},
   "outputs": [],
   "source": [
    "# Use list comprehension to generate new column names\n",
    "new_columns = [rename_columns(column) for column in df_train.columns]\n",
    "\n",
    "# Rename columns using the 'rename()' method\n",
    "df_train.rename(columns=dict(zip(df_train.columns, new_columns)), inplace=True)"
   ]
  },
  {
   "cell_type": "code",
   "execution_count": 47,
   "metadata": {},
   "outputs": [],
   "source": [
    "# Use list comprehension to generate new column names\n",
    "new_columns = [rename_columns(column) for column in df_test.columns]\n",
    "\n",
    "df_test.rename(columns=dict(zip(df_test.columns, new_columns)), inplace=True)"
   ]
  },
  {
   "cell_type": "code",
   "execution_count": null,
   "metadata": {},
   "outputs": [],
   "source": []
  },
  {
   "cell_type": "code",
   "execution_count": 48,
   "metadata": {},
   "outputs": [],
   "source": [
    "# Define a function to rename columns ending with '_y'\n",
    "\n",
    "\n",
    "def rename_columns(column_name):\n",
    "    if column_name.endswith('_y'):\n",
    "        return column_name[:-2] + '_Out'\n",
    "    else:\n",
    "        return column_name"
   ]
  },
  {
   "cell_type": "code",
   "execution_count": 49,
   "metadata": {},
   "outputs": [],
   "source": [
    "# Use list comprehension to generate new column names\n",
    "new_columns = [rename_columns(column) for column in df_train.columns]\n",
    "\n",
    "# Rename columns using the 'rename()' method\n",
    "df_train.rename(columns=dict(zip(df_train.columns, new_columns)), inplace=True)"
   ]
  },
  {
   "cell_type": "code",
   "execution_count": 50,
   "metadata": {},
   "outputs": [],
   "source": [
    "# Use list comprehension to generate new column names\n",
    "new_columns = [rename_columns(column) for column in df_test.columns]\n",
    "\n",
    "df_test.rename(columns=dict(zip(df_test.columns, new_columns)), inplace=True)"
   ]
  },
  {
   "cell_type": "code",
   "execution_count": null,
   "metadata": {},
   "outputs": [],
   "source": []
  },
  {
   "cell_type": "code",
   "execution_count": 51,
   "metadata": {},
   "outputs": [
    {
     "data": {
      "text/html": [
       "<div>\n",
       "<style scoped>\n",
       "    .dataframe tbody tr th:only-of-type {\n",
       "        vertical-align: middle;\n",
       "    }\n",
       "\n",
       "    .dataframe tbody tr th {\n",
       "        vertical-align: top;\n",
       "    }\n",
       "\n",
       "    .dataframe thead th {\n",
       "        text-align: right;\n",
       "    }\n",
       "</style>\n",
       "<table border=\"1\" class=\"dataframe\">\n",
       "  <thead>\n",
       "    <tr style=\"text-align: right;\">\n",
       "      <th></th>\n",
       "      <th>Provider</th>\n",
       "      <th>PotentialFraud</th>\n",
       "      <th>BeneID</th>\n",
       "      <th>DOB</th>\n",
       "      <th>DOD</th>\n",
       "      <th>RenalDiseaseIndicator</th>\n",
       "      <th>NoOfMonths_PartACov</th>\n",
       "      <th>NoOfMonths_PartBCov</th>\n",
       "      <th>ChronicCond_Alzheimer</th>\n",
       "      <th>ChronicCond_Heartfailure</th>\n",
       "      <th>...</th>\n",
       "      <th>InscClaimAmtReimbursed_Out</th>\n",
       "      <th>AttendingPhysician_Out</th>\n",
       "      <th>OperatingPhysician_Out</th>\n",
       "      <th>OtherPhysician_Out</th>\n",
       "      <th>DeductibleAmtPaid_Out</th>\n",
       "      <th>ClmAdmitDiagnosisCode_Out</th>\n",
       "      <th>num_claim_diagnose_in</th>\n",
       "      <th>num_claim_diagnose_out</th>\n",
       "      <th>num_claim_procedure_in</th>\n",
       "      <th>num_claim_procedure_out</th>\n",
       "    </tr>\n",
       "  </thead>\n",
       "  <tbody>\n",
       "    <tr>\n",
       "      <th>0</th>\n",
       "      <td>PRV51001</td>\n",
       "      <td>No</td>\n",
       "      <td>BENE36012BENE38773BENE98831BENE102690BENE152088</td>\n",
       "      <td>1940-07-011938-05-011934-11-011929-11-011913-0...</td>\n",
       "      <td>0</td>\n",
       "      <td>2</td>\n",
       "      <td>60</td>\n",
       "      <td>60</td>\n",
       "      <td>2</td>\n",
       "      <td>4</td>\n",
       "      <td>...</td>\n",
       "      <td>0.0</td>\n",
       "      <td>0</td>\n",
       "      <td>0</td>\n",
       "      <td>0</td>\n",
       "      <td>0.0</td>\n",
       "      <td>0</td>\n",
       "      <td>36</td>\n",
       "      <td>0</td>\n",
       "      <td>3</td>\n",
       "      <td>0</td>\n",
       "    </tr>\n",
       "    <tr>\n",
       "      <th>1</th>\n",
       "      <td>PRV51003</td>\n",
       "      <td>Yes</td>\n",
       "      <td>BENE18650BENE21377BENE24383BENE25685BENE30002B...</td>\n",
       "      <td>1951-09-011928-12-011951-03-011938-04-011962-0...</td>\n",
       "      <td>2009-09-01</td>\n",
       "      <td>17</td>\n",
       "      <td>732</td>\n",
       "      <td>732</td>\n",
       "      <td>32</td>\n",
       "      <td>36</td>\n",
       "      <td>...</td>\n",
       "      <td>0.0</td>\n",
       "      <td>0</td>\n",
       "      <td>0</td>\n",
       "      <td>0</td>\n",
       "      <td>0.0</td>\n",
       "      <td>0</td>\n",
       "      <td>503</td>\n",
       "      <td>0</td>\n",
       "      <td>48</td>\n",
       "      <td>0</td>\n",
       "    </tr>\n",
       "    <tr>\n",
       "      <th>2</th>\n",
       "      <td>PRV51007</td>\n",
       "      <td>No</td>\n",
       "      <td>BENE16277BENE98446BENE99552</td>\n",
       "      <td>1926-06-011936-04-011930-11-01</td>\n",
       "      <td>0</td>\n",
       "      <td>1</td>\n",
       "      <td>36</td>\n",
       "      <td>36</td>\n",
       "      <td>2</td>\n",
       "      <td>3</td>\n",
       "      <td>...</td>\n",
       "      <td>0.0</td>\n",
       "      <td>0</td>\n",
       "      <td>0</td>\n",
       "      <td>0</td>\n",
       "      <td>0.0</td>\n",
       "      <td>0</td>\n",
       "      <td>22</td>\n",
       "      <td>0</td>\n",
       "      <td>1</td>\n",
       "      <td>0</td>\n",
       "    </tr>\n",
       "    <tr>\n",
       "      <th>3</th>\n",
       "      <td>PRV51008</td>\n",
       "      <td>No</td>\n",
       "      <td>BENE123836BENE139063</td>\n",
       "      <td>1936-03-011980-08-01</td>\n",
       "      <td>0</td>\n",
       "      <td>0</td>\n",
       "      <td>24</td>\n",
       "      <td>24</td>\n",
       "      <td>1</td>\n",
       "      <td>0</td>\n",
       "      <td>...</td>\n",
       "      <td>0.0</td>\n",
       "      <td>0</td>\n",
       "      <td>0</td>\n",
       "      <td>0</td>\n",
       "      <td>0.0</td>\n",
       "      <td>0</td>\n",
       "      <td>15</td>\n",
       "      <td>0</td>\n",
       "      <td>2</td>\n",
       "      <td>0</td>\n",
       "    </tr>\n",
       "    <tr>\n",
       "      <th>4</th>\n",
       "      <td>PRV51011</td>\n",
       "      <td>No</td>\n",
       "      <td>BENE39712</td>\n",
       "      <td>1912-03-01</td>\n",
       "      <td>0</td>\n",
       "      <td>1</td>\n",
       "      <td>12</td>\n",
       "      <td>12</td>\n",
       "      <td>1</td>\n",
       "      <td>0</td>\n",
       "      <td>...</td>\n",
       "      <td>0.0</td>\n",
       "      <td>0</td>\n",
       "      <td>0</td>\n",
       "      <td>0</td>\n",
       "      <td>0.0</td>\n",
       "      <td>0</td>\n",
       "      <td>8</td>\n",
       "      <td>0</td>\n",
       "      <td>0</td>\n",
       "      <td>0</td>\n",
       "    </tr>\n",
       "  </tbody>\n",
       "</table>\n",
       "<p>5 rows × 47 columns</p>\n",
       "</div>"
      ],
      "text/plain": [
       "   Provider PotentialFraud                                             BeneID  \\\n",
       "0  PRV51001             No    BENE36012BENE38773BENE98831BENE102690BENE152088   \n",
       "1  PRV51003            Yes  BENE18650BENE21377BENE24383BENE25685BENE30002B...   \n",
       "2  PRV51007             No                        BENE16277BENE98446BENE99552   \n",
       "3  PRV51008             No                               BENE123836BENE139063   \n",
       "4  PRV51011             No                                          BENE39712   \n",
       "\n",
       "                                                 DOB         DOD  \\\n",
       "0  1940-07-011938-05-011934-11-011929-11-011913-0...           0   \n",
       "1  1951-09-011928-12-011951-03-011938-04-011962-0...  2009-09-01   \n",
       "2                     1926-06-011936-04-011930-11-01           0   \n",
       "3                               1936-03-011980-08-01           0   \n",
       "4                                         1912-03-01           0   \n",
       "\n",
       "   RenalDiseaseIndicator  NoOfMonths_PartACov  NoOfMonths_PartBCov  \\\n",
       "0                      2                   60                   60   \n",
       "1                     17                  732                  732   \n",
       "2                      1                   36                   36   \n",
       "3                      0                   24                   24   \n",
       "4                      1                   12                   12   \n",
       "\n",
       "   ChronicCond_Alzheimer  ChronicCond_Heartfailure  ...  \\\n",
       "0                      2                         4  ...   \n",
       "1                     32                        36  ...   \n",
       "2                      2                         3  ...   \n",
       "3                      1                         0  ...   \n",
       "4                      1                         0  ...   \n",
       "\n",
       "   InscClaimAmtReimbursed_Out  AttendingPhysician_Out  OperatingPhysician_Out  \\\n",
       "0                         0.0                       0                       0   \n",
       "1                         0.0                       0                       0   \n",
       "2                         0.0                       0                       0   \n",
       "3                         0.0                       0                       0   \n",
       "4                         0.0                       0                       0   \n",
       "\n",
       "   OtherPhysician_Out  DeductibleAmtPaid_Out  ClmAdmitDiagnosisCode_Out  \\\n",
       "0                   0                    0.0                          0   \n",
       "1                   0                    0.0                          0   \n",
       "2                   0                    0.0                          0   \n",
       "3                   0                    0.0                          0   \n",
       "4                   0                    0.0                          0   \n",
       "\n",
       "   num_claim_diagnose_in  num_claim_diagnose_out  num_claim_procedure_in  \\\n",
       "0                     36                       0                       3   \n",
       "1                    503                       0                      48   \n",
       "2                     22                       0                       1   \n",
       "3                     15                       0                       2   \n",
       "4                      8                       0                       0   \n",
       "\n",
       "   num_claim_procedure_out  \n",
       "0                        0  \n",
       "1                        0  \n",
       "2                        0  \n",
       "3                        0  \n",
       "4                        0  \n",
       "\n",
       "[5 rows x 47 columns]"
      ]
     },
     "execution_count": 51,
     "metadata": {},
     "output_type": "execute_result"
    }
   ],
   "source": [
    "df_train.head()"
   ]
  },
  {
   "cell_type": "code",
   "execution_count": 52,
   "metadata": {},
   "outputs": [
    {
     "data": {
      "text/html": [
       "<div>\n",
       "<style scoped>\n",
       "    .dataframe tbody tr th:only-of-type {\n",
       "        vertical-align: middle;\n",
       "    }\n",
       "\n",
       "    .dataframe tbody tr th {\n",
       "        vertical-align: top;\n",
       "    }\n",
       "\n",
       "    .dataframe thead th {\n",
       "        text-align: right;\n",
       "    }\n",
       "</style>\n",
       "<table border=\"1\" class=\"dataframe\">\n",
       "  <thead>\n",
       "    <tr style=\"text-align: right;\">\n",
       "      <th></th>\n",
       "      <th>Provider</th>\n",
       "      <th>BeneID</th>\n",
       "      <th>DOB</th>\n",
       "      <th>DOD</th>\n",
       "      <th>RenalDiseaseIndicator</th>\n",
       "      <th>NoOfMonths_PartACov</th>\n",
       "      <th>NoOfMonths_PartBCov</th>\n",
       "      <th>ChronicCond_Alzheimer</th>\n",
       "      <th>ChronicCond_Heartfailure</th>\n",
       "      <th>ChronicCond_KidneyDisease</th>\n",
       "      <th>...</th>\n",
       "      <th>InscClaimAmtReimbursed_Out</th>\n",
       "      <th>AttendingPhysician_Out</th>\n",
       "      <th>OperatingPhysician_Out</th>\n",
       "      <th>OtherPhysician_Out</th>\n",
       "      <th>DeductibleAmtPaid_Out</th>\n",
       "      <th>ClmAdmitDiagnosisCode_Out</th>\n",
       "      <th>num_claim_diagnose_in</th>\n",
       "      <th>num_claim_diagnose_out</th>\n",
       "      <th>num_claim_procedure_in</th>\n",
       "      <th>num_claim_procedure_out</th>\n",
       "    </tr>\n",
       "  </thead>\n",
       "  <tbody>\n",
       "    <tr>\n",
       "      <th>0</th>\n",
       "      <td>PRV51009</td>\n",
       "      <td>BENE46602BENE86272</td>\n",
       "      <td>1935-02-011939-09-01</td>\n",
       "      <td>0</td>\n",
       "      <td>1</td>\n",
       "      <td>24</td>\n",
       "      <td>24</td>\n",
       "      <td>1</td>\n",
       "      <td>1</td>\n",
       "      <td>1</td>\n",
       "      <td>...</td>\n",
       "      <td>0.0</td>\n",
       "      <td>0</td>\n",
       "      <td>0</td>\n",
       "      <td>0</td>\n",
       "      <td>0.0</td>\n",
       "      <td>0</td>\n",
       "      <td>15</td>\n",
       "      <td>0</td>\n",
       "      <td>3</td>\n",
       "      <td>0</td>\n",
       "    </tr>\n",
       "    <tr>\n",
       "      <th>1</th>\n",
       "      <td>PRV51010</td>\n",
       "      <td>BENE88689BENE102305BENE127431BENE127431BENE128...</td>\n",
       "      <td>1921-01-011927-05-011934-07-011934-07-011925-0...</td>\n",
       "      <td>0</td>\n",
       "      <td>1</td>\n",
       "      <td>72</td>\n",
       "      <td>72</td>\n",
       "      <td>4</td>\n",
       "      <td>6</td>\n",
       "      <td>4</td>\n",
       "      <td>...</td>\n",
       "      <td>0.0</td>\n",
       "      <td>0</td>\n",
       "      <td>0</td>\n",
       "      <td>0</td>\n",
       "      <td>0.0</td>\n",
       "      <td>0</td>\n",
       "      <td>42</td>\n",
       "      <td>0</td>\n",
       "      <td>3</td>\n",
       "      <td>0</td>\n",
       "    </tr>\n",
       "    <tr>\n",
       "      <th>2</th>\n",
       "      <td>PRV51020</td>\n",
       "      <td>BENE79183BENE107177</td>\n",
       "      <td>1938-03-011943-04-01</td>\n",
       "      <td>0</td>\n",
       "      <td>0</td>\n",
       "      <td>24</td>\n",
       "      <td>12</td>\n",
       "      <td>1</td>\n",
       "      <td>2</td>\n",
       "      <td>0</td>\n",
       "      <td>...</td>\n",
       "      <td>0.0</td>\n",
       "      <td>0</td>\n",
       "      <td>0</td>\n",
       "      <td>0</td>\n",
       "      <td>0.0</td>\n",
       "      <td>0</td>\n",
       "      <td>19</td>\n",
       "      <td>0</td>\n",
       "      <td>1</td>\n",
       "      <td>0</td>\n",
       "    </tr>\n",
       "    <tr>\n",
       "      <th>3</th>\n",
       "      <td>PRV51022</td>\n",
       "      <td>BENE12211BENE13915BENE35388BENE50308BENE97770B...</td>\n",
       "      <td>1941-06-011921-02-011950-08-011919-01-011919-0...</td>\n",
       "      <td>0</td>\n",
       "      <td>1</td>\n",
       "      <td>72</td>\n",
       "      <td>84</td>\n",
       "      <td>2</td>\n",
       "      <td>6</td>\n",
       "      <td>6</td>\n",
       "      <td>...</td>\n",
       "      <td>0.0</td>\n",
       "      <td>0</td>\n",
       "      <td>0</td>\n",
       "      <td>0</td>\n",
       "      <td>0.0</td>\n",
       "      <td>0</td>\n",
       "      <td>50</td>\n",
       "      <td>0</td>\n",
       "      <td>7</td>\n",
       "      <td>0</td>\n",
       "    </tr>\n",
       "    <tr>\n",
       "      <th>4</th>\n",
       "      <td>PRV51033</td>\n",
       "      <td>BENE87872</td>\n",
       "      <td>1925-06-01</td>\n",
       "      <td>0</td>\n",
       "      <td>0</td>\n",
       "      <td>12</td>\n",
       "      <td>12</td>\n",
       "      <td>0</td>\n",
       "      <td>0</td>\n",
       "      <td>0</td>\n",
       "      <td>...</td>\n",
       "      <td>0.0</td>\n",
       "      <td>0</td>\n",
       "      <td>0</td>\n",
       "      <td>0</td>\n",
       "      <td>0.0</td>\n",
       "      <td>0</td>\n",
       "      <td>5</td>\n",
       "      <td>0</td>\n",
       "      <td>0</td>\n",
       "      <td>0</td>\n",
       "    </tr>\n",
       "  </tbody>\n",
       "</table>\n",
       "<p>5 rows × 46 columns</p>\n",
       "</div>"
      ],
      "text/plain": [
       "   Provider                                             BeneID  \\\n",
       "0  PRV51009                                 BENE46602BENE86272   \n",
       "1  PRV51010  BENE88689BENE102305BENE127431BENE127431BENE128...   \n",
       "2  PRV51020                                BENE79183BENE107177   \n",
       "3  PRV51022  BENE12211BENE13915BENE35388BENE50308BENE97770B...   \n",
       "4  PRV51033                                          BENE87872   \n",
       "\n",
       "                                                 DOB DOD  \\\n",
       "0                               1935-02-011939-09-01   0   \n",
       "1  1921-01-011927-05-011934-07-011934-07-011925-0...   0   \n",
       "2                               1938-03-011943-04-01   0   \n",
       "3  1941-06-011921-02-011950-08-011919-01-011919-0...   0   \n",
       "4                                         1925-06-01   0   \n",
       "\n",
       "   RenalDiseaseIndicator  NoOfMonths_PartACov  NoOfMonths_PartBCov  \\\n",
       "0                      1                   24                   24   \n",
       "1                      1                   72                   72   \n",
       "2                      0                   24                   12   \n",
       "3                      1                   72                   84   \n",
       "4                      0                   12                   12   \n",
       "\n",
       "   ChronicCond_Alzheimer  ChronicCond_Heartfailure  ChronicCond_KidneyDisease  \\\n",
       "0                      1                         1                          1   \n",
       "1                      4                         6                          4   \n",
       "2                      1                         2                          0   \n",
       "3                      2                         6                          6   \n",
       "4                      0                         0                          0   \n",
       "\n",
       "   ...  InscClaimAmtReimbursed_Out  AttendingPhysician_Out  \\\n",
       "0  ...                         0.0                       0   \n",
       "1  ...                         0.0                       0   \n",
       "2  ...                         0.0                       0   \n",
       "3  ...                         0.0                       0   \n",
       "4  ...                         0.0                       0   \n",
       "\n",
       "   OperatingPhysician_Out  OtherPhysician_Out  DeductibleAmtPaid_Out  \\\n",
       "0                       0                   0                    0.0   \n",
       "1                       0                   0                    0.0   \n",
       "2                       0                   0                    0.0   \n",
       "3                       0                   0                    0.0   \n",
       "4                       0                   0                    0.0   \n",
       "\n",
       "   ClmAdmitDiagnosisCode_Out  num_claim_diagnose_in  num_claim_diagnose_out  \\\n",
       "0                          0                     15                       0   \n",
       "1                          0                     42                       0   \n",
       "2                          0                     19                       0   \n",
       "3                          0                     50                       0   \n",
       "4                          0                      5                       0   \n",
       "\n",
       "   num_claim_procedure_in  num_claim_procedure_out  \n",
       "0                       3                        0  \n",
       "1                       3                        0  \n",
       "2                       1                        0  \n",
       "3                       7                        0  \n",
       "4                       0                        0  \n",
       "\n",
       "[5 rows x 46 columns]"
      ]
     },
     "execution_count": 52,
     "metadata": {},
     "output_type": "execute_result"
    }
   ],
   "source": [
    "df_test.head()"
   ]
  },
  {
   "cell_type": "code",
   "execution_count": null,
   "metadata": {},
   "outputs": [],
   "source": []
  },
  {
   "cell_type": "code",
   "execution_count": null,
   "metadata": {},
   "outputs": [],
   "source": []
  },
  {
   "cell_type": "markdown",
   "metadata": {},
   "source": [
    "#### Deletes column that have only one value\n"
   ]
  },
  {
   "cell_type": "code",
   "execution_count": 53,
   "metadata": {},
   "outputs": [],
   "source": [
    "# Get columns with only one unique value\n",
    "singleton_columns = df_train.columns[df_train.nunique() == 1]\n",
    "\n",
    "# Remove columns with only one unique value\n",
    "df_train = df_train.drop(columns=singleton_columns)\n",
    "\n",
    "# Store the names of deleted columns for reference\n",
    "deleted_columns_df_train = list(singleton_columns)"
   ]
  },
  {
   "cell_type": "code",
   "execution_count": 54,
   "metadata": {},
   "outputs": [
    {
     "data": {
      "text/plain": [
       "['ClaimStartDt_Out',\n",
       " 'ClaimEndDt_Out',\n",
       " 'InscClaimAmtReimbursed_Out',\n",
       " 'AttendingPhysician_Out',\n",
       " 'OperatingPhysician_Out',\n",
       " 'OtherPhysician_Out',\n",
       " 'DeductibleAmtPaid_Out',\n",
       " 'ClmAdmitDiagnosisCode_Out',\n",
       " 'num_claim_diagnose_out',\n",
       " 'num_claim_procedure_out']"
      ]
     },
     "execution_count": 54,
     "metadata": {},
     "output_type": "execute_result"
    }
   ],
   "source": [
    "deleted_columns_df_train"
   ]
  },
  {
   "cell_type": "code",
   "execution_count": null,
   "metadata": {},
   "outputs": [],
   "source": []
  },
  {
   "cell_type": "code",
   "execution_count": 55,
   "metadata": {},
   "outputs": [
    {
     "data": {
      "text/plain": [
       "Provider                           0\n",
       "PotentialFraud                     0\n",
       "BeneID                             0\n",
       "DOB                                0\n",
       "DOD                                0\n",
       "RenalDiseaseIndicator              0\n",
       "NoOfMonths_PartACov                0\n",
       "NoOfMonths_PartBCov                0\n",
       "ChronicCond_Alzheimer              0\n",
       "ChronicCond_Heartfailure           0\n",
       "ChronicCond_KidneyDisease          0\n",
       "ChronicCond_Cancer                 0\n",
       "ChronicCond_ObstrPulmonary         0\n",
       "ChronicCond_Depression             0\n",
       "ChronicCond_Diabetes               0\n",
       "ChronicCond_IschemicHeart          0\n",
       "ChronicCond_Osteoporasis           0\n",
       "ChronicCond_rheumatoidarthritis    0\n",
       "ChronicCond_stroke                 0\n",
       "IPAnnualReimbursementAmt           0\n",
       "IPAnnualDeductibleAmt              0\n",
       "OPAnnualReimbursementAmt           0\n",
       "OPAnnualDeductibleAmt              0\n",
       "ClaimID                            0\n",
       "ClaimStartDt_In                    0\n",
       "ClaimEndDt_In                      0\n",
       "InscClaimAmtReimbursed_In          0\n",
       "AttendingPhysician_In              0\n",
       "OperatingPhysician_In              0\n",
       "OtherPhysician_In                  0\n",
       "AdmissionDt                        0\n",
       "ClmAdmitDiagnosisCode_In           0\n",
       "DeductibleAmtPaid_In               0\n",
       "DischargeDt                        0\n",
       "DiagnosisGroupCode                 0\n",
       "num_claim_diagnose_in              0\n",
       "num_claim_procedure_in             0\n",
       "dtype: int64"
      ]
     },
     "execution_count": 55,
     "metadata": {},
     "output_type": "execute_result"
    }
   ],
   "source": [
    "#check null columns\n",
    "df_train.isnull().sum()"
   ]
  },
  {
   "cell_type": "code",
   "execution_count": 56,
   "metadata": {},
   "outputs": [
    {
     "data": {
      "text/plain": [
       "Provider                            object\n",
       "PotentialFraud                      object\n",
       "BeneID                              object\n",
       "DOB                                 object\n",
       "DOD                                 object\n",
       "RenalDiseaseIndicator                int64\n",
       "NoOfMonths_PartACov                  int64\n",
       "NoOfMonths_PartBCov                  int64\n",
       "ChronicCond_Alzheimer                int64\n",
       "ChronicCond_Heartfailure             int64\n",
       "ChronicCond_KidneyDisease            int64\n",
       "ChronicCond_Cancer                   int64\n",
       "ChronicCond_ObstrPulmonary           int64\n",
       "ChronicCond_Depression               int64\n",
       "ChronicCond_Diabetes                 int64\n",
       "ChronicCond_IschemicHeart            int64\n",
       "ChronicCond_Osteoporasis             int64\n",
       "ChronicCond_rheumatoidarthritis      int64\n",
       "ChronicCond_stroke                   int64\n",
       "IPAnnualReimbursementAmt             int64\n",
       "IPAnnualDeductibleAmt                int64\n",
       "OPAnnualReimbursementAmt             int64\n",
       "OPAnnualDeductibleAmt                int64\n",
       "ClaimID                             object\n",
       "ClaimStartDt_In                     object\n",
       "ClaimEndDt_In                       object\n",
       "InscClaimAmtReimbursed_In          float64\n",
       "AttendingPhysician_In                int64\n",
       "OperatingPhysician_In                int64\n",
       "OtherPhysician_In                    int64\n",
       "AdmissionDt                         object\n",
       "ClmAdmitDiagnosisCode_In            object\n",
       "DeductibleAmtPaid_In               float64\n",
       "DischargeDt                         object\n",
       "DiagnosisGroupCode                  object\n",
       "num_claim_diagnose_in                int64\n",
       "num_claim_procedure_in               int64\n",
       "dtype: object"
      ]
     },
     "execution_count": 56,
     "metadata": {},
     "output_type": "execute_result"
    }
   ],
   "source": [
    "df_train.dtypes"
   ]
  },
  {
   "cell_type": "code",
   "execution_count": null,
   "metadata": {},
   "outputs": [],
   "source": []
  },
  {
   "cell_type": "code",
   "execution_count": 57,
   "metadata": {},
   "outputs": [
    {
     "data": {
      "text/plain": [
       "((2092, 37), (520, 46))"
      ]
     },
     "execution_count": 57,
     "metadata": {},
     "output_type": "execute_result"
    }
   ],
   "source": [
    "df_train.shape, df_test.shape"
   ]
  },
  {
   "cell_type": "code",
   "execution_count": null,
   "metadata": {},
   "outputs": [],
   "source": []
  },
  {
   "cell_type": "markdown",
   "metadata": {},
   "source": [
    "#### Advance Feature Selection"
   ]
  },
  {
   "cell_type": "code",
   "execution_count": 58,
   "metadata": {},
   "outputs": [],
   "source": [
    "# Fill the NaN values with zero for numerical columns\n",
    "df_copy = df_train.copy()\n",
    "num_cols = df_copy.select_dtypes(include=['float64', 'int64']).columns.tolist()\n",
    "df_copy[num_cols] = df_copy[num_cols].fillna(0)"
   ]
  },
  {
   "cell_type": "code",
   "execution_count": 59,
   "metadata": {},
   "outputs": [
    {
     "data": {
      "text/plain": [
       "25"
      ]
     },
     "execution_count": 59,
     "metadata": {},
     "output_type": "execute_result"
    }
   ],
   "source": [
    "len(num_cols)"
   ]
  },
  {
   "cell_type": "code",
   "execution_count": 60,
   "metadata": {},
   "outputs": [
    {
     "data": {
      "text/plain": [
       "['RenalDiseaseIndicator',\n",
       " 'NoOfMonths_PartACov',\n",
       " 'NoOfMonths_PartBCov',\n",
       " 'ChronicCond_Alzheimer',\n",
       " 'ChronicCond_Heartfailure',\n",
       " 'ChronicCond_KidneyDisease',\n",
       " 'ChronicCond_Cancer',\n",
       " 'ChronicCond_ObstrPulmonary',\n",
       " 'ChronicCond_Depression',\n",
       " 'ChronicCond_Diabetes',\n",
       " 'ChronicCond_IschemicHeart',\n",
       " 'ChronicCond_Osteoporasis',\n",
       " 'ChronicCond_rheumatoidarthritis',\n",
       " 'ChronicCond_stroke',\n",
       " 'IPAnnualReimbursementAmt',\n",
       " 'IPAnnualDeductibleAmt',\n",
       " 'OPAnnualReimbursementAmt',\n",
       " 'OPAnnualDeductibleAmt',\n",
       " 'InscClaimAmtReimbursed_In',\n",
       " 'AttendingPhysician_In',\n",
       " 'OperatingPhysician_In',\n",
       " 'OtherPhysician_In',\n",
       " 'DeductibleAmtPaid_In',\n",
       " 'num_claim_diagnose_in',\n",
       " 'num_claim_procedure_in']"
      ]
     },
     "execution_count": 60,
     "metadata": {},
     "output_type": "execute_result"
    }
   ],
   "source": [
    "num_cols"
   ]
  },
  {
   "cell_type": "code",
   "execution_count": 61,
   "metadata": {},
   "outputs": [
    {
     "data": {
      "text/html": [
       "<div>\n",
       "<style scoped>\n",
       "    .dataframe tbody tr th:only-of-type {\n",
       "        vertical-align: middle;\n",
       "    }\n",
       "\n",
       "    .dataframe tbody tr th {\n",
       "        vertical-align: top;\n",
       "    }\n",
       "\n",
       "    .dataframe thead th {\n",
       "        text-align: right;\n",
       "    }\n",
       "</style>\n",
       "<table border=\"1\" class=\"dataframe\">\n",
       "  <thead>\n",
       "    <tr style=\"text-align: right;\">\n",
       "      <th></th>\n",
       "      <th>Provider</th>\n",
       "      <th>PotentialFraud</th>\n",
       "      <th>BeneID</th>\n",
       "      <th>DOB</th>\n",
       "      <th>DOD</th>\n",
       "      <th>RenalDiseaseIndicator</th>\n",
       "      <th>NoOfMonths_PartACov</th>\n",
       "      <th>NoOfMonths_PartBCov</th>\n",
       "      <th>ChronicCond_Alzheimer</th>\n",
       "      <th>ChronicCond_Heartfailure</th>\n",
       "      <th>...</th>\n",
       "      <th>AttendingPhysician_In</th>\n",
       "      <th>OperatingPhysician_In</th>\n",
       "      <th>OtherPhysician_In</th>\n",
       "      <th>AdmissionDt</th>\n",
       "      <th>ClmAdmitDiagnosisCode_In</th>\n",
       "      <th>DeductibleAmtPaid_In</th>\n",
       "      <th>DischargeDt</th>\n",
       "      <th>DiagnosisGroupCode</th>\n",
       "      <th>num_claim_diagnose_in</th>\n",
       "      <th>num_claim_procedure_in</th>\n",
       "    </tr>\n",
       "  </thead>\n",
       "  <tbody>\n",
       "    <tr>\n",
       "      <th>0</th>\n",
       "      <td>PRV51001</td>\n",
       "      <td>No</td>\n",
       "      <td>BENE36012BENE38773BENE98831BENE102690BENE152088</td>\n",
       "      <td>1940-07-011938-05-011934-11-011929-11-011913-0...</td>\n",
       "      <td>0</td>\n",
       "      <td>2</td>\n",
       "      <td>60</td>\n",
       "      <td>60</td>\n",
       "      <td>2</td>\n",
       "      <td>4</td>\n",
       "      <td>...</td>\n",
       "      <td>5</td>\n",
       "      <td>2</td>\n",
       "      <td>1</td>\n",
       "      <td>2009-07-042009-05-232009-02-032009-05-042009-0...</td>\n",
       "      <td>29623038953624140180121</td>\n",
       "      <td>5340.0</td>\n",
       "      <td>2009-07-082009-05-252009-02-082009-05-182009-0...</td>\n",
       "      <td>882864353245062</td>\n",
       "      <td>36</td>\n",
       "      <td>3</td>\n",
       "    </tr>\n",
       "    <tr>\n",
       "      <th>1</th>\n",
       "      <td>PRV51003</td>\n",
       "      <td>Yes</td>\n",
       "      <td>BENE18650BENE21377BENE24383BENE25685BENE30002B...</td>\n",
       "      <td>1951-09-011928-12-011951-03-011938-04-011962-0...</td>\n",
       "      <td>2009-09-01</td>\n",
       "      <td>17</td>\n",
       "      <td>732</td>\n",
       "      <td>732</td>\n",
       "      <td>32</td>\n",
       "      <td>36</td>\n",
       "      <td>...</td>\n",
       "      <td>62</td>\n",
       "      <td>40</td>\n",
       "      <td>0</td>\n",
       "      <td>2009-05-132009-02-262009-04-102009-11-112009-0...</td>\n",
       "      <td>5856185428050707807933204280V66042789786057802...</td>\n",
       "      <td>66216.0</td>\n",
       "      <td>2009-05-192009-03-052009-04-162009-11-182009-0...</td>\n",
       "      <td>2627232982039494594069512351962626383922385993...</td>\n",
       "      <td>503</td>\n",
       "      <td>48</td>\n",
       "    </tr>\n",
       "    <tr>\n",
       "      <th>2</th>\n",
       "      <td>PRV51007</td>\n",
       "      <td>No</td>\n",
       "      <td>BENE16277BENE98446BENE99552</td>\n",
       "      <td>1926-06-011936-04-011930-11-01</td>\n",
       "      <td>0</td>\n",
       "      <td>1</td>\n",
       "      <td>36</td>\n",
       "      <td>36</td>\n",
       "      <td>2</td>\n",
       "      <td>3</td>\n",
       "      <td>...</td>\n",
       "      <td>3</td>\n",
       "      <td>1</td>\n",
       "      <td>0</td>\n",
       "      <td>2009-05-282009-08-192009-03-15</td>\n",
       "      <td>780972957029633</td>\n",
       "      <td>3204.0</td>\n",
       "      <td>2009-06-012009-08-242009-03-22</td>\n",
       "      <td>085886887</td>\n",
       "      <td>22</td>\n",
       "      <td>1</td>\n",
       "    </tr>\n",
       "    <tr>\n",
       "      <th>3</th>\n",
       "      <td>PRV51008</td>\n",
       "      <td>No</td>\n",
       "      <td>BENE123836BENE139063</td>\n",
       "      <td>1936-03-011980-08-01</td>\n",
       "      <td>0</td>\n",
       "      <td>0</td>\n",
       "      <td>24</td>\n",
       "      <td>24</td>\n",
       "      <td>1</td>\n",
       "      <td>0</td>\n",
       "      <td>...</td>\n",
       "      <td>2</td>\n",
       "      <td>2</td>\n",
       "      <td>0</td>\n",
       "      <td>2009-04-192009-06-17</td>\n",
       "      <td>7837920</td>\n",
       "      <td>2136.0</td>\n",
       "      <td>2009-04-242009-06-20</td>\n",
       "      <td>623095</td>\n",
       "      <td>15</td>\n",
       "      <td>2</td>\n",
       "    </tr>\n",
       "    <tr>\n",
       "      <th>4</th>\n",
       "      <td>PRV51011</td>\n",
       "      <td>No</td>\n",
       "      <td>BENE39712</td>\n",
       "      <td>1912-03-01</td>\n",
       "      <td>0</td>\n",
       "      <td>1</td>\n",
       "      <td>12</td>\n",
       "      <td>12</td>\n",
       "      <td>1</td>\n",
       "      <td>0</td>\n",
       "      <td>...</td>\n",
       "      <td>1</td>\n",
       "      <td>0</td>\n",
       "      <td>0</td>\n",
       "      <td>2009-10-22</td>\n",
       "      <td>78906</td>\n",
       "      <td>1068.0</td>\n",
       "      <td>2009-10-27</td>\n",
       "      <td>414</td>\n",
       "      <td>8</td>\n",
       "      <td>0</td>\n",
       "    </tr>\n",
       "  </tbody>\n",
       "</table>\n",
       "<p>5 rows × 37 columns</p>\n",
       "</div>"
      ],
      "text/plain": [
       "   Provider PotentialFraud                                             BeneID  \\\n",
       "0  PRV51001             No    BENE36012BENE38773BENE98831BENE102690BENE152088   \n",
       "1  PRV51003            Yes  BENE18650BENE21377BENE24383BENE25685BENE30002B...   \n",
       "2  PRV51007             No                        BENE16277BENE98446BENE99552   \n",
       "3  PRV51008             No                               BENE123836BENE139063   \n",
       "4  PRV51011             No                                          BENE39712   \n",
       "\n",
       "                                                 DOB         DOD  \\\n",
       "0  1940-07-011938-05-011934-11-011929-11-011913-0...           0   \n",
       "1  1951-09-011928-12-011951-03-011938-04-011962-0...  2009-09-01   \n",
       "2                     1926-06-011936-04-011930-11-01           0   \n",
       "3                               1936-03-011980-08-01           0   \n",
       "4                                         1912-03-01           0   \n",
       "\n",
       "   RenalDiseaseIndicator  NoOfMonths_PartACov  NoOfMonths_PartBCov  \\\n",
       "0                      2                   60                   60   \n",
       "1                     17                  732                  732   \n",
       "2                      1                   36                   36   \n",
       "3                      0                   24                   24   \n",
       "4                      1                   12                   12   \n",
       "\n",
       "   ChronicCond_Alzheimer  ChronicCond_Heartfailure  ...  \\\n",
       "0                      2                         4  ...   \n",
       "1                     32                        36  ...   \n",
       "2                      2                         3  ...   \n",
       "3                      1                         0  ...   \n",
       "4                      1                         0  ...   \n",
       "\n",
       "   AttendingPhysician_In  OperatingPhysician_In  OtherPhysician_In  \\\n",
       "0                      5                      2                  1   \n",
       "1                     62                     40                  0   \n",
       "2                      3                      1                  0   \n",
       "3                      2                      2                  0   \n",
       "4                      1                      0                  0   \n",
       "\n",
       "                                         AdmissionDt  \\\n",
       "0  2009-07-042009-05-232009-02-032009-05-042009-0...   \n",
       "1  2009-05-132009-02-262009-04-102009-11-112009-0...   \n",
       "2                     2009-05-282009-08-192009-03-15   \n",
       "3                               2009-04-192009-06-17   \n",
       "4                                         2009-10-22   \n",
       "\n",
       "                            ClmAdmitDiagnosisCode_In  DeductibleAmtPaid_In  \\\n",
       "0                            29623038953624140180121                5340.0   \n",
       "1  5856185428050707807933204280V66042789786057802...               66216.0   \n",
       "2                                    780972957029633                3204.0   \n",
       "3                                            7837920                2136.0   \n",
       "4                                              78906                1068.0   \n",
       "\n",
       "                                         DischargeDt  \\\n",
       "0  2009-07-082009-05-252009-02-082009-05-182009-0...   \n",
       "1  2009-05-192009-03-052009-04-162009-11-182009-0...   \n",
       "2                     2009-06-012009-08-242009-03-22   \n",
       "3                               2009-04-242009-06-20   \n",
       "4                                         2009-10-27   \n",
       "\n",
       "                                  DiagnosisGroupCode  num_claim_diagnose_in  \\\n",
       "0                                    882864353245062                     36   \n",
       "1  2627232982039494594069512351962626383922385993...                    503   \n",
       "2                                          085886887                     22   \n",
       "3                                             623095                     15   \n",
       "4                                                414                      8   \n",
       "\n",
       "   num_claim_procedure_in  \n",
       "0                       3  \n",
       "1                      48  \n",
       "2                       1  \n",
       "3                       2  \n",
       "4                       0  \n",
       "\n",
       "[5 rows x 37 columns]"
      ]
     },
     "execution_count": 61,
     "metadata": {},
     "output_type": "execute_result"
    }
   ],
   "source": [
    "df_copy.head()"
   ]
  },
  {
   "cell_type": "code",
   "execution_count": 62,
   "metadata": {},
   "outputs": [
    {
     "data": {
      "text/plain": [
       "Provider                           0\n",
       "PotentialFraud                     0\n",
       "BeneID                             0\n",
       "DOB                                0\n",
       "DOD                                0\n",
       "RenalDiseaseIndicator              0\n",
       "NoOfMonths_PartACov                0\n",
       "NoOfMonths_PartBCov                0\n",
       "ChronicCond_Alzheimer              0\n",
       "ChronicCond_Heartfailure           0\n",
       "ChronicCond_KidneyDisease          0\n",
       "ChronicCond_Cancer                 0\n",
       "ChronicCond_ObstrPulmonary         0\n",
       "ChronicCond_Depression             0\n",
       "ChronicCond_Diabetes               0\n",
       "ChronicCond_IschemicHeart          0\n",
       "ChronicCond_Osteoporasis           0\n",
       "ChronicCond_rheumatoidarthritis    0\n",
       "ChronicCond_stroke                 0\n",
       "IPAnnualReimbursementAmt           0\n",
       "IPAnnualDeductibleAmt              0\n",
       "OPAnnualReimbursementAmt           0\n",
       "OPAnnualDeductibleAmt              0\n",
       "ClaimID                            0\n",
       "ClaimStartDt_In                    0\n",
       "ClaimEndDt_In                      0\n",
       "InscClaimAmtReimbursed_In          0\n",
       "AttendingPhysician_In              0\n",
       "OperatingPhysician_In              0\n",
       "OtherPhysician_In                  0\n",
       "AdmissionDt                        0\n",
       "ClmAdmitDiagnosisCode_In           0\n",
       "DeductibleAmtPaid_In               0\n",
       "DischargeDt                        0\n",
       "DiagnosisGroupCode                 0\n",
       "num_claim_diagnose_in              0\n",
       "num_claim_procedure_in             0\n",
       "dtype: int64"
      ]
     },
     "execution_count": 62,
     "metadata": {},
     "output_type": "execute_result"
    }
   ],
   "source": [
    "df_copy.isnull().sum()"
   ]
  },
  {
   "cell_type": "code",
   "execution_count": 63,
   "metadata": {},
   "outputs": [
    {
     "data": {
      "text/plain": [
       "['RenalDiseaseIndicator',\n",
       " 'NoOfMonths_PartACov',\n",
       " 'NoOfMonths_PartBCov',\n",
       " 'ChronicCond_Alzheimer',\n",
       " 'ChronicCond_Heartfailure',\n",
       " 'ChronicCond_KidneyDisease',\n",
       " 'ChronicCond_Cancer',\n",
       " 'ChronicCond_ObstrPulmonary',\n",
       " 'ChronicCond_Depression',\n",
       " 'ChronicCond_Diabetes',\n",
       " 'ChronicCond_IschemicHeart',\n",
       " 'ChronicCond_Osteoporasis',\n",
       " 'ChronicCond_rheumatoidarthritis',\n",
       " 'ChronicCond_stroke',\n",
       " 'IPAnnualReimbursementAmt',\n",
       " 'IPAnnualDeductibleAmt',\n",
       " 'OPAnnualReimbursementAmt',\n",
       " 'OPAnnualDeductibleAmt',\n",
       " 'InscClaimAmtReimbursed_In',\n",
       " 'AttendingPhysician_In',\n",
       " 'OperatingPhysician_In',\n",
       " 'OtherPhysician_In',\n",
       " 'DeductibleAmtPaid_In',\n",
       " 'num_claim_diagnose_in',\n",
       " 'num_claim_procedure_in']"
      ]
     },
     "execution_count": 63,
     "metadata": {},
     "output_type": "execute_result"
    }
   ],
   "source": [
    "num_cols"
   ]
  },
  {
   "cell_type": "code",
   "execution_count": 64,
   "metadata": {},
   "outputs": [
    {
     "data": {
      "text/plain": [
       "Index(['Provider', 'PotentialFraud', 'BeneID', 'DOB', 'DOD',\n",
       "       'RenalDiseaseIndicator', 'NoOfMonths_PartACov', 'NoOfMonths_PartBCov',\n",
       "       'ChronicCond_Alzheimer', 'ChronicCond_Heartfailure',\n",
       "       'ChronicCond_KidneyDisease', 'ChronicCond_Cancer',\n",
       "       'ChronicCond_ObstrPulmonary', 'ChronicCond_Depression',\n",
       "       'ChronicCond_Diabetes', 'ChronicCond_IschemicHeart',\n",
       "       'ChronicCond_Osteoporasis', 'ChronicCond_rheumatoidarthritis',\n",
       "       'ChronicCond_stroke', 'IPAnnualReimbursementAmt',\n",
       "       'IPAnnualDeductibleAmt', 'OPAnnualReimbursementAmt',\n",
       "       'OPAnnualDeductibleAmt', 'ClaimID', 'ClaimStartDt_In', 'ClaimEndDt_In',\n",
       "       'InscClaimAmtReimbursed_In', 'AttendingPhysician_In',\n",
       "       'OperatingPhysician_In', 'OtherPhysician_In', 'AdmissionDt',\n",
       "       'ClmAdmitDiagnosisCode_In', 'DeductibleAmtPaid_In', 'DischargeDt',\n",
       "       'DiagnosisGroupCode', 'num_claim_diagnose_in',\n",
       "       'num_claim_procedure_in'],\n",
       "      dtype='object')"
      ]
     },
     "execution_count": 64,
     "metadata": {},
     "output_type": "execute_result"
    }
   ],
   "source": [
    "df_train.columns"
   ]
  },
  {
   "cell_type": "code",
   "execution_count": 65,
   "metadata": {},
   "outputs": [
    {
     "data": {
      "text/plain": [
       "(2092, 37)"
      ]
     },
     "execution_count": 65,
     "metadata": {},
     "output_type": "execute_result"
    }
   ],
   "source": [
    "df_copy.shape"
   ]
  },
  {
   "cell_type": "code",
   "execution_count": 66,
   "metadata": {},
   "outputs": [
    {
     "data": {
      "text/plain": [
       "25"
      ]
     },
     "execution_count": 66,
     "metadata": {},
     "output_type": "execute_result"
    }
   ],
   "source": [
    "len(num_cols)"
   ]
  },
  {
   "cell_type": "code",
   "execution_count": 67,
   "metadata": {},
   "outputs": [
    {
     "data": {
      "text/plain": [
       "['RenalDiseaseIndicator',\n",
       " 'NoOfMonths_PartACov',\n",
       " 'NoOfMonths_PartBCov',\n",
       " 'ChronicCond_Alzheimer',\n",
       " 'ChronicCond_Heartfailure',\n",
       " 'ChronicCond_KidneyDisease',\n",
       " 'ChronicCond_Cancer',\n",
       " 'ChronicCond_ObstrPulmonary',\n",
       " 'ChronicCond_Depression',\n",
       " 'ChronicCond_Diabetes',\n",
       " 'ChronicCond_IschemicHeart',\n",
       " 'ChronicCond_Osteoporasis',\n",
       " 'ChronicCond_rheumatoidarthritis',\n",
       " 'ChronicCond_stroke',\n",
       " 'IPAnnualReimbursementAmt',\n",
       " 'IPAnnualDeductibleAmt',\n",
       " 'OPAnnualReimbursementAmt',\n",
       " 'OPAnnualDeductibleAmt',\n",
       " 'InscClaimAmtReimbursed_In',\n",
       " 'AttendingPhysician_In',\n",
       " 'OperatingPhysician_In',\n",
       " 'OtherPhysician_In',\n",
       " 'DeductibleAmtPaid_In',\n",
       " 'num_claim_diagnose_in',\n",
       " 'num_claim_procedure_in']"
      ]
     },
     "execution_count": 67,
     "metadata": {},
     "output_type": "execute_result"
    }
   ],
   "source": [
    "num_cols"
   ]
  },
  {
   "cell_type": "code",
   "execution_count": 68,
   "metadata": {},
   "outputs": [
    {
     "data": {
      "text/plain": [
       "Provider                            object\n",
       "PotentialFraud                      object\n",
       "BeneID                              object\n",
       "DOB                                 object\n",
       "DOD                                 object\n",
       "RenalDiseaseIndicator                int64\n",
       "NoOfMonths_PartACov                  int64\n",
       "NoOfMonths_PartBCov                  int64\n",
       "ChronicCond_Alzheimer                int64\n",
       "ChronicCond_Heartfailure             int64\n",
       "ChronicCond_KidneyDisease            int64\n",
       "ChronicCond_Cancer                   int64\n",
       "ChronicCond_ObstrPulmonary           int64\n",
       "ChronicCond_Depression               int64\n",
       "ChronicCond_Diabetes                 int64\n",
       "ChronicCond_IschemicHeart            int64\n",
       "ChronicCond_Osteoporasis             int64\n",
       "ChronicCond_rheumatoidarthritis      int64\n",
       "ChronicCond_stroke                   int64\n",
       "IPAnnualReimbursementAmt             int64\n",
       "IPAnnualDeductibleAmt                int64\n",
       "OPAnnualReimbursementAmt             int64\n",
       "OPAnnualDeductibleAmt                int64\n",
       "ClaimID                             object\n",
       "ClaimStartDt_In                     object\n",
       "ClaimEndDt_In                       object\n",
       "InscClaimAmtReimbursed_In          float64\n",
       "AttendingPhysician_In                int64\n",
       "OperatingPhysician_In                int64\n",
       "OtherPhysician_In                    int64\n",
       "AdmissionDt                         object\n",
       "ClmAdmitDiagnosisCode_In            object\n",
       "DeductibleAmtPaid_In               float64\n",
       "DischargeDt                         object\n",
       "DiagnosisGroupCode                  object\n",
       "num_claim_diagnose_in                int64\n",
       "num_claim_procedure_in               int64\n",
       "dtype: object"
      ]
     },
     "execution_count": 68,
     "metadata": {},
     "output_type": "execute_result"
    }
   ],
   "source": [
    "df_copy.dtypes"
   ]
  },
  {
   "cell_type": "code",
   "execution_count": 69,
   "metadata": {},
   "outputs": [
    {
     "data": {
      "text/plain": [
       "list"
      ]
     },
     "execution_count": 69,
     "metadata": {},
     "output_type": "execute_result"
    }
   ],
   "source": [
    "type(num_cols)"
   ]
  },
  {
   "cell_type": "code",
   "execution_count": 70,
   "metadata": {},
   "outputs": [
    {
     "data": {
      "text/plain": [
       "26"
      ]
     },
     "execution_count": 70,
     "metadata": {},
     "output_type": "execute_result"
    }
   ],
   "source": [
    "# select columns using correlation between categorical and numerical data\n",
    "df_copy['PotentialFraud'] = df_copy['PotentialFraud'].map({'Yes': 1, 'No': 0})\n",
    "num_cols = num_cols + ['PotentialFraud']\n",
    "\n",
    "len(num_cols)"
   ]
  },
  {
   "cell_type": "code",
   "execution_count": 71,
   "metadata": {},
   "outputs": [
    {
     "data": {
      "text/plain": [
       "Provider                            object\n",
       "PotentialFraud                       int64\n",
       "BeneID                              object\n",
       "DOB                                 object\n",
       "DOD                                 object\n",
       "RenalDiseaseIndicator                int64\n",
       "NoOfMonths_PartACov                  int64\n",
       "NoOfMonths_PartBCov                  int64\n",
       "ChronicCond_Alzheimer                int64\n",
       "ChronicCond_Heartfailure             int64\n",
       "ChronicCond_KidneyDisease            int64\n",
       "ChronicCond_Cancer                   int64\n",
       "ChronicCond_ObstrPulmonary           int64\n",
       "ChronicCond_Depression               int64\n",
       "ChronicCond_Diabetes                 int64\n",
       "ChronicCond_IschemicHeart            int64\n",
       "ChronicCond_Osteoporasis             int64\n",
       "ChronicCond_rheumatoidarthritis      int64\n",
       "ChronicCond_stroke                   int64\n",
       "IPAnnualReimbursementAmt             int64\n",
       "IPAnnualDeductibleAmt                int64\n",
       "OPAnnualReimbursementAmt             int64\n",
       "OPAnnualDeductibleAmt                int64\n",
       "ClaimID                             object\n",
       "ClaimStartDt_In                     object\n",
       "ClaimEndDt_In                       object\n",
       "InscClaimAmtReimbursed_In          float64\n",
       "AttendingPhysician_In                int64\n",
       "OperatingPhysician_In                int64\n",
       "OtherPhysician_In                    int64\n",
       "AdmissionDt                         object\n",
       "ClmAdmitDiagnosisCode_In            object\n",
       "DeductibleAmtPaid_In               float64\n",
       "DischargeDt                         object\n",
       "DiagnosisGroupCode                  object\n",
       "num_claim_diagnose_in                int64\n",
       "num_claim_procedure_in               int64\n",
       "dtype: object"
      ]
     },
     "execution_count": 71,
     "metadata": {},
     "output_type": "execute_result"
    }
   ],
   "source": [
    "df_copy.dtypes"
   ]
  },
  {
   "cell_type": "code",
   "execution_count": 72,
   "metadata": {},
   "outputs": [
    {
     "data": {
      "text/plain": [
       "['RenalDiseaseIndicator',\n",
       " 'NoOfMonths_PartACov',\n",
       " 'NoOfMonths_PartBCov',\n",
       " 'ChronicCond_Alzheimer',\n",
       " 'ChronicCond_Heartfailure',\n",
       " 'ChronicCond_KidneyDisease',\n",
       " 'ChronicCond_Cancer',\n",
       " 'ChronicCond_ObstrPulmonary',\n",
       " 'ChronicCond_Depression',\n",
       " 'ChronicCond_Diabetes',\n",
       " 'ChronicCond_IschemicHeart',\n",
       " 'ChronicCond_Osteoporasis',\n",
       " 'ChronicCond_rheumatoidarthritis',\n",
       " 'ChronicCond_stroke',\n",
       " 'IPAnnualReimbursementAmt',\n",
       " 'IPAnnualDeductibleAmt',\n",
       " 'OPAnnualReimbursementAmt',\n",
       " 'OPAnnualDeductibleAmt',\n",
       " 'InscClaimAmtReimbursed_In',\n",
       " 'AttendingPhysician_In',\n",
       " 'OperatingPhysician_In',\n",
       " 'OtherPhysician_In',\n",
       " 'DeductibleAmtPaid_In',\n",
       " 'num_claim_diagnose_in',\n",
       " 'num_claim_procedure_in',\n",
       " 'PotentialFraud']"
      ]
     },
     "execution_count": 72,
     "metadata": {},
     "output_type": "execute_result"
    }
   ],
   "source": [
    "# calculate the correlation matrix\n",
    "corr = df_copy[num_cols].corr(method='kendall')['PotentialFraud'].reset_index().rename(columns={'index': 'feature'})\n",
    "\n",
    "selected_cols = []\n",
    "\n",
    "for i in corr['feature'].unique():\n",
    "    if abs(corr.loc[corr['feature'] == i, 'PotentialFraud'].values[0]) >= 0.01:\n",
    "        selected_cols.append(i)\n",
    "\n",
    "selected_cols"
   ]
  },
  {
   "cell_type": "code",
   "execution_count": 73,
   "metadata": {},
   "outputs": [
    {
     "data": {
      "text/plain": [
       "26"
      ]
     },
     "execution_count": 73,
     "metadata": {},
     "output_type": "execute_result"
    }
   ],
   "source": [
    "len(selected_cols)"
   ]
  },
  {
   "cell_type": "code",
   "execution_count": 74,
   "metadata": {},
   "outputs": [
    {
     "data": {
      "text/plain": [
       "(2092, 26)"
      ]
     },
     "execution_count": 74,
     "metadata": {},
     "output_type": "execute_result"
    }
   ],
   "source": [
    "## Now, use these selected-columns features to train the model\n",
    "\n",
    "df_temp = df_train[selected_cols]\n",
    "\n",
    "# remove duplicate columns\n",
    "df_temp = df_temp.loc[:,~df_temp.columns.duplicated()]\n",
    "\n",
    "df_temp.shape"
   ]
  },
  {
   "cell_type": "code",
   "execution_count": 75,
   "metadata": {},
   "outputs": [
    {
     "data": {
      "text/plain": [
       "RenalDiseaseIndicator                int64\n",
       "NoOfMonths_PartACov                  int64\n",
       "NoOfMonths_PartBCov                  int64\n",
       "ChronicCond_Alzheimer                int64\n",
       "ChronicCond_Heartfailure             int64\n",
       "ChronicCond_KidneyDisease            int64\n",
       "ChronicCond_Cancer                   int64\n",
       "ChronicCond_ObstrPulmonary           int64\n",
       "ChronicCond_Depression               int64\n",
       "ChronicCond_Diabetes                 int64\n",
       "ChronicCond_IschemicHeart            int64\n",
       "ChronicCond_Osteoporasis             int64\n",
       "ChronicCond_rheumatoidarthritis      int64\n",
       "ChronicCond_stroke                   int64\n",
       "IPAnnualReimbursementAmt             int64\n",
       "IPAnnualDeductibleAmt                int64\n",
       "OPAnnualReimbursementAmt             int64\n",
       "OPAnnualDeductibleAmt                int64\n",
       "InscClaimAmtReimbursed_In          float64\n",
       "AttendingPhysician_In                int64\n",
       "OperatingPhysician_In                int64\n",
       "OtherPhysician_In                    int64\n",
       "DeductibleAmtPaid_In               float64\n",
       "num_claim_diagnose_in                int64\n",
       "num_claim_procedure_in               int64\n",
       "PotentialFraud                      object\n",
       "dtype: object"
      ]
     },
     "execution_count": 75,
     "metadata": {},
     "output_type": "execute_result"
    }
   ],
   "source": [
    "df_temp.dtypes"
   ]
  },
  {
   "cell_type": "code",
   "execution_count": 76,
   "metadata": {},
   "outputs": [
    {
     "data": {
      "text/html": [
       "<div>\n",
       "<style scoped>\n",
       "    .dataframe tbody tr th:only-of-type {\n",
       "        vertical-align: middle;\n",
       "    }\n",
       "\n",
       "    .dataframe tbody tr th {\n",
       "        vertical-align: top;\n",
       "    }\n",
       "\n",
       "    .dataframe thead th {\n",
       "        text-align: right;\n",
       "    }\n",
       "</style>\n",
       "<table border=\"1\" class=\"dataframe\">\n",
       "  <thead>\n",
       "    <tr style=\"text-align: right;\">\n",
       "      <th></th>\n",
       "      <th>RenalDiseaseIndicator</th>\n",
       "      <th>NoOfMonths_PartACov</th>\n",
       "      <th>NoOfMonths_PartBCov</th>\n",
       "      <th>ChronicCond_Alzheimer</th>\n",
       "      <th>ChronicCond_Heartfailure</th>\n",
       "      <th>ChronicCond_KidneyDisease</th>\n",
       "      <th>ChronicCond_Cancer</th>\n",
       "      <th>ChronicCond_ObstrPulmonary</th>\n",
       "      <th>ChronicCond_Depression</th>\n",
       "      <th>ChronicCond_Diabetes</th>\n",
       "      <th>...</th>\n",
       "      <th>OPAnnualReimbursementAmt</th>\n",
       "      <th>OPAnnualDeductibleAmt</th>\n",
       "      <th>InscClaimAmtReimbursed_In</th>\n",
       "      <th>AttendingPhysician_In</th>\n",
       "      <th>OperatingPhysician_In</th>\n",
       "      <th>OtherPhysician_In</th>\n",
       "      <th>DeductibleAmtPaid_In</th>\n",
       "      <th>num_claim_diagnose_in</th>\n",
       "      <th>num_claim_procedure_in</th>\n",
       "      <th>PotentialFraud</th>\n",
       "    </tr>\n",
       "  </thead>\n",
       "  <tbody>\n",
       "    <tr>\n",
       "      <th>0</th>\n",
       "      <td>2</td>\n",
       "      <td>60</td>\n",
       "      <td>60</td>\n",
       "      <td>2</td>\n",
       "      <td>4</td>\n",
       "      <td>4</td>\n",
       "      <td>1</td>\n",
       "      <td>2</td>\n",
       "      <td>4</td>\n",
       "      <td>4</td>\n",
       "      <td>...</td>\n",
       "      <td>6750</td>\n",
       "      <td>1180</td>\n",
       "      <td>97000.0</td>\n",
       "      <td>5</td>\n",
       "      <td>2</td>\n",
       "      <td>1</td>\n",
       "      <td>5340.0</td>\n",
       "      <td>36</td>\n",
       "      <td>3</td>\n",
       "      <td>No</td>\n",
       "    </tr>\n",
       "    <tr>\n",
       "      <th>1</th>\n",
       "      <td>17</td>\n",
       "      <td>732</td>\n",
       "      <td>732</td>\n",
       "      <td>32</td>\n",
       "      <td>36</td>\n",
       "      <td>39</td>\n",
       "      <td>7</td>\n",
       "      <td>23</td>\n",
       "      <td>25</td>\n",
       "      <td>49</td>\n",
       "      <td>...</td>\n",
       "      <td>137500</td>\n",
       "      <td>44940</td>\n",
       "      <td>573000.0</td>\n",
       "      <td>62</td>\n",
       "      <td>40</td>\n",
       "      <td>0</td>\n",
       "      <td>66216.0</td>\n",
       "      <td>503</td>\n",
       "      <td>48</td>\n",
       "      <td>Yes</td>\n",
       "    </tr>\n",
       "    <tr>\n",
       "      <th>2</th>\n",
       "      <td>1</td>\n",
       "      <td>36</td>\n",
       "      <td>36</td>\n",
       "      <td>2</td>\n",
       "      <td>3</td>\n",
       "      <td>1</td>\n",
       "      <td>0</td>\n",
       "      <td>0</td>\n",
       "      <td>2</td>\n",
       "      <td>3</td>\n",
       "      <td>...</td>\n",
       "      <td>7240</td>\n",
       "      <td>1410</td>\n",
       "      <td>19000.0</td>\n",
       "      <td>3</td>\n",
       "      <td>1</td>\n",
       "      <td>0</td>\n",
       "      <td>3204.0</td>\n",
       "      <td>22</td>\n",
       "      <td>1</td>\n",
       "      <td>No</td>\n",
       "    </tr>\n",
       "    <tr>\n",
       "      <th>3</th>\n",
       "      <td>0</td>\n",
       "      <td>24</td>\n",
       "      <td>24</td>\n",
       "      <td>1</td>\n",
       "      <td>0</td>\n",
       "      <td>1</td>\n",
       "      <td>1</td>\n",
       "      <td>1</td>\n",
       "      <td>0</td>\n",
       "      <td>1</td>\n",
       "      <td>...</td>\n",
       "      <td>640</td>\n",
       "      <td>330</td>\n",
       "      <td>25000.0</td>\n",
       "      <td>2</td>\n",
       "      <td>2</td>\n",
       "      <td>0</td>\n",
       "      <td>2136.0</td>\n",
       "      <td>15</td>\n",
       "      <td>2</td>\n",
       "      <td>No</td>\n",
       "    </tr>\n",
       "    <tr>\n",
       "      <th>4</th>\n",
       "      <td>1</td>\n",
       "      <td>12</td>\n",
       "      <td>12</td>\n",
       "      <td>1</td>\n",
       "      <td>0</td>\n",
       "      <td>1</td>\n",
       "      <td>0</td>\n",
       "      <td>0</td>\n",
       "      <td>1</td>\n",
       "      <td>1</td>\n",
       "      <td>...</td>\n",
       "      <td>590</td>\n",
       "      <td>90</td>\n",
       "      <td>5000.0</td>\n",
       "      <td>1</td>\n",
       "      <td>0</td>\n",
       "      <td>0</td>\n",
       "      <td>1068.0</td>\n",
       "      <td>8</td>\n",
       "      <td>0</td>\n",
       "      <td>No</td>\n",
       "    </tr>\n",
       "  </tbody>\n",
       "</table>\n",
       "<p>5 rows × 26 columns</p>\n",
       "</div>"
      ],
      "text/plain": [
       "   RenalDiseaseIndicator  NoOfMonths_PartACov  NoOfMonths_PartBCov  \\\n",
       "0                      2                   60                   60   \n",
       "1                     17                  732                  732   \n",
       "2                      1                   36                   36   \n",
       "3                      0                   24                   24   \n",
       "4                      1                   12                   12   \n",
       "\n",
       "   ChronicCond_Alzheimer  ChronicCond_Heartfailure  ChronicCond_KidneyDisease  \\\n",
       "0                      2                         4                          4   \n",
       "1                     32                        36                         39   \n",
       "2                      2                         3                          1   \n",
       "3                      1                         0                          1   \n",
       "4                      1                         0                          1   \n",
       "\n",
       "   ChronicCond_Cancer  ChronicCond_ObstrPulmonary  ChronicCond_Depression  \\\n",
       "0                   1                           2                       4   \n",
       "1                   7                          23                      25   \n",
       "2                   0                           0                       2   \n",
       "3                   1                           1                       0   \n",
       "4                   0                           0                       1   \n",
       "\n",
       "   ChronicCond_Diabetes  ...  OPAnnualReimbursementAmt  OPAnnualDeductibleAmt  \\\n",
       "0                     4  ...                      6750                   1180   \n",
       "1                    49  ...                    137500                  44940   \n",
       "2                     3  ...                      7240                   1410   \n",
       "3                     1  ...                       640                    330   \n",
       "4                     1  ...                       590                     90   \n",
       "\n",
       "   InscClaimAmtReimbursed_In  AttendingPhysician_In  OperatingPhysician_In  \\\n",
       "0                    97000.0                      5                      2   \n",
       "1                   573000.0                     62                     40   \n",
       "2                    19000.0                      3                      1   \n",
       "3                    25000.0                      2                      2   \n",
       "4                     5000.0                      1                      0   \n",
       "\n",
       "   OtherPhysician_In  DeductibleAmtPaid_In  num_claim_diagnose_in  \\\n",
       "0                  1                5340.0                     36   \n",
       "1                  0               66216.0                    503   \n",
       "2                  0                3204.0                     22   \n",
       "3                  0                2136.0                     15   \n",
       "4                  0                1068.0                      8   \n",
       "\n",
       "   num_claim_procedure_in  PotentialFraud  \n",
       "0                       3              No  \n",
       "1                      48             Yes  \n",
       "2                       1              No  \n",
       "3                       2              No  \n",
       "4                       0              No  \n",
       "\n",
       "[5 rows x 26 columns]"
      ]
     },
     "execution_count": 76,
     "metadata": {},
     "output_type": "execute_result"
    }
   ],
   "source": [
    "df_temp.head()"
   ]
  },
  {
   "cell_type": "code",
   "execution_count": 77,
   "metadata": {},
   "outputs": [],
   "source": [
    "df_temp['PotentialFraud'] = df_train['PotentialFraud'].map({'Yes': 1, 'No': 0}) \n",
    "\n",
    "X_train_val = df_temp.drop(columns='PotentialFraud')\n",
    "y_train_val = df_temp['PotentialFraud']"
   ]
  },
  {
   "cell_type": "code",
   "execution_count": 78,
   "metadata": {},
   "outputs": [
    {
     "data": {
      "text/plain": [
       "RenalDiseaseIndicator                int64\n",
       "NoOfMonths_PartACov                  int64\n",
       "NoOfMonths_PartBCov                  int64\n",
       "ChronicCond_Alzheimer                int64\n",
       "ChronicCond_Heartfailure             int64\n",
       "ChronicCond_KidneyDisease            int64\n",
       "ChronicCond_Cancer                   int64\n",
       "ChronicCond_ObstrPulmonary           int64\n",
       "ChronicCond_Depression               int64\n",
       "ChronicCond_Diabetes                 int64\n",
       "ChronicCond_IschemicHeart            int64\n",
       "ChronicCond_Osteoporasis             int64\n",
       "ChronicCond_rheumatoidarthritis      int64\n",
       "ChronicCond_stroke                   int64\n",
       "IPAnnualReimbursementAmt             int64\n",
       "IPAnnualDeductibleAmt                int64\n",
       "OPAnnualReimbursementAmt             int64\n",
       "OPAnnualDeductibleAmt                int64\n",
       "InscClaimAmtReimbursed_In          float64\n",
       "AttendingPhysician_In                int64\n",
       "OperatingPhysician_In                int64\n",
       "OtherPhysician_In                    int64\n",
       "DeductibleAmtPaid_In               float64\n",
       "num_claim_diagnose_in                int64\n",
       "num_claim_procedure_in               int64\n",
       "dtype: object"
      ]
     },
     "execution_count": 78,
     "metadata": {},
     "output_type": "execute_result"
    }
   ],
   "source": [
    "X_train_val.dtypes"
   ]
  },
  {
   "cell_type": "code",
   "execution_count": 79,
   "metadata": {},
   "outputs": [
    {
     "data": {
      "text/plain": [
       "Index(['Provider', 'BeneID', 'DOB', 'DOD', 'RenalDiseaseIndicator',\n",
       "       'NoOfMonths_PartACov', 'NoOfMonths_PartBCov', 'ChronicCond_Alzheimer',\n",
       "       'ChronicCond_Heartfailure', 'ChronicCond_KidneyDisease',\n",
       "       'ChronicCond_Cancer', 'ChronicCond_ObstrPulmonary',\n",
       "       'ChronicCond_Depression', 'ChronicCond_Diabetes',\n",
       "       'ChronicCond_IschemicHeart', 'ChronicCond_Osteoporasis',\n",
       "       'ChronicCond_rheumatoidarthritis', 'ChronicCond_stroke',\n",
       "       'IPAnnualReimbursementAmt', 'IPAnnualDeductibleAmt',\n",
       "       'OPAnnualReimbursementAmt', 'OPAnnualDeductibleAmt', 'ClaimID',\n",
       "       'ClaimStartDt_In', 'ClaimEndDt_In', 'InscClaimAmtReimbursed_In',\n",
       "       'AttendingPhysician_In', 'OperatingPhysician_In', 'OtherPhysician_In',\n",
       "       'AdmissionDt', 'ClmAdmitDiagnosisCode_In', 'DeductibleAmtPaid_In',\n",
       "       'DischargeDt', 'DiagnosisGroupCode', 'ClaimStartDt_Out',\n",
       "       'ClaimEndDt_Out', 'InscClaimAmtReimbursed_Out',\n",
       "       'AttendingPhysician_Out', 'OperatingPhysician_Out',\n",
       "       'OtherPhysician_Out', 'DeductibleAmtPaid_Out',\n",
       "       'ClmAdmitDiagnosisCode_Out', 'num_claim_diagnose_in',\n",
       "       'num_claim_diagnose_out', 'num_claim_procedure_in',\n",
       "       'num_claim_procedure_out'],\n",
       "      dtype='object')"
      ]
     },
     "execution_count": 79,
     "metadata": {},
     "output_type": "execute_result"
    }
   ],
   "source": [
    "df_test.columns"
   ]
  },
  {
   "cell_type": "code",
   "execution_count": null,
   "metadata": {},
   "outputs": [],
   "source": []
  },
  {
   "cell_type": "code",
   "execution_count": 80,
   "metadata": {},
   "outputs": [],
   "source": [
    "columns_to_ignore = ['PotentialFraud']"
   ]
  },
  {
   "cell_type": "code",
   "execution_count": 81,
   "metadata": {},
   "outputs": [
    {
     "data": {
      "text/plain": [
       "['RenalDiseaseIndicator',\n",
       " 'NoOfMonths_PartACov',\n",
       " 'NoOfMonths_PartBCov',\n",
       " 'ChronicCond_Alzheimer',\n",
       " 'ChronicCond_Heartfailure',\n",
       " 'ChronicCond_KidneyDisease',\n",
       " 'ChronicCond_Cancer',\n",
       " 'ChronicCond_ObstrPulmonary',\n",
       " 'ChronicCond_Depression',\n",
       " 'ChronicCond_Diabetes',\n",
       " 'ChronicCond_IschemicHeart',\n",
       " 'ChronicCond_Osteoporasis',\n",
       " 'ChronicCond_rheumatoidarthritis',\n",
       " 'ChronicCond_stroke',\n",
       " 'IPAnnualReimbursementAmt',\n",
       " 'IPAnnualDeductibleAmt',\n",
       " 'OPAnnualReimbursementAmt',\n",
       " 'OPAnnualDeductibleAmt',\n",
       " 'InscClaimAmtReimbursed_In',\n",
       " 'AttendingPhysician_In',\n",
       " 'OperatingPhysician_In',\n",
       " 'OtherPhysician_In',\n",
       " 'DeductibleAmtPaid_In',\n",
       " 'num_claim_diagnose_in',\n",
       " 'num_claim_procedure_in',\n",
       " 'Provider']"
      ]
     },
     "execution_count": 81,
     "metadata": {},
     "output_type": "execute_result"
    }
   ],
   "source": [
    "# use columns to be features of test data\n",
    "selected_test = [i for i in selected_cols if i not in columns_to_ignore] + ['Provider']\n",
    "selected_test"
   ]
  },
  {
   "cell_type": "code",
   "execution_count": 82,
   "metadata": {},
   "outputs": [
    {
     "data": {
      "text/plain": [
       "(520, 26)"
      ]
     },
     "execution_count": 82,
     "metadata": {},
     "output_type": "execute_result"
    }
   ],
   "source": [
    "# use columns to be features of test data\n",
    "df_test_copy = df_test[selected_test]\n",
    "df_test_copy = df_test_copy.loc[:,~df_test_copy.columns.duplicated()]\n",
    "\n",
    "df_test_copy.shape"
   ]
  },
  {
   "cell_type": "code",
   "execution_count": 83,
   "metadata": {},
   "outputs": [
    {
     "data": {
      "text/plain": [
       "RenalDiseaseIndicator                int64\n",
       "NoOfMonths_PartACov                  int64\n",
       "NoOfMonths_PartBCov                  int64\n",
       "ChronicCond_Alzheimer                int64\n",
       "ChronicCond_Heartfailure             int64\n",
       "ChronicCond_KidneyDisease            int64\n",
       "ChronicCond_Cancer                   int64\n",
       "ChronicCond_ObstrPulmonary           int64\n",
       "ChronicCond_Depression               int64\n",
       "ChronicCond_Diabetes                 int64\n",
       "ChronicCond_IschemicHeart            int64\n",
       "ChronicCond_Osteoporasis             int64\n",
       "ChronicCond_rheumatoidarthritis      int64\n",
       "ChronicCond_stroke                   int64\n",
       "IPAnnualReimbursementAmt             int64\n",
       "IPAnnualDeductibleAmt                int64\n",
       "OPAnnualReimbursementAmt             int64\n",
       "OPAnnualDeductibleAmt                int64\n",
       "InscClaimAmtReimbursed_In          float64\n",
       "AttendingPhysician_In                int64\n",
       "OperatingPhysician_In                int64\n",
       "OtherPhysician_In                    int64\n",
       "DeductibleAmtPaid_In               float64\n",
       "num_claim_diagnose_in                int64\n",
       "num_claim_procedure_in               int64\n",
       "Provider                            object\n",
       "dtype: object"
      ]
     },
     "execution_count": 83,
     "metadata": {},
     "output_type": "execute_result"
    }
   ],
   "source": [
    "df_test_copy.dtypes"
   ]
  },
  {
   "cell_type": "code",
   "execution_count": 84,
   "metadata": {},
   "outputs": [
    {
     "data": {
      "text/plain": [
       "(520, 1)"
      ]
     },
     "execution_count": 84,
     "metadata": {},
     "output_type": "execute_result"
    }
   ],
   "source": [
    "test_id = df_test_copy[['Provider']]\n",
    "test_id.shape"
   ]
  },
  {
   "cell_type": "code",
   "execution_count": 85,
   "metadata": {},
   "outputs": [
    {
     "data": {
      "text/plain": [
       "(520, 25)"
      ]
     },
     "execution_count": 85,
     "metadata": {},
     "output_type": "execute_result"
    }
   ],
   "source": [
    "X_test = df_test_copy.drop(columns='Provider', axis=1)\n",
    "X_test.shape"
   ]
  },
  {
   "cell_type": "code",
   "execution_count": 86,
   "metadata": {},
   "outputs": [
    {
     "data": {
      "text/plain": [
       "((520, 25), (2092, 25), (2092,))"
      ]
     },
     "execution_count": 86,
     "metadata": {},
     "output_type": "execute_result"
    }
   ],
   "source": [
    "X_test.shape, X_train_val.shape, y_train_val.shape"
   ]
  },
  {
   "cell_type": "code",
   "execution_count": 87,
   "metadata": {},
   "outputs": [
    {
     "data": {
      "text/plain": [
       "Index(['RenalDiseaseIndicator', 'NoOfMonths_PartACov', 'NoOfMonths_PartBCov',\n",
       "       'ChronicCond_Alzheimer', 'ChronicCond_Heartfailure',\n",
       "       'ChronicCond_KidneyDisease', 'ChronicCond_Cancer',\n",
       "       'ChronicCond_ObstrPulmonary', 'ChronicCond_Depression',\n",
       "       'ChronicCond_Diabetes', 'ChronicCond_IschemicHeart',\n",
       "       'ChronicCond_Osteoporasis', 'ChronicCond_rheumatoidarthritis',\n",
       "       'ChronicCond_stroke', 'IPAnnualReimbursementAmt',\n",
       "       'IPAnnualDeductibleAmt', 'OPAnnualReimbursementAmt',\n",
       "       'OPAnnualDeductibleAmt', 'InscClaimAmtReimbursed_In',\n",
       "       'AttendingPhysician_In', 'OperatingPhysician_In', 'OtherPhysician_In',\n",
       "       'DeductibleAmtPaid_In', 'num_claim_diagnose_in',\n",
       "       'num_claim_procedure_in'],\n",
       "      dtype='object')"
      ]
     },
     "execution_count": 87,
     "metadata": {},
     "output_type": "execute_result"
    }
   ],
   "source": [
    "X_train_val.columns"
   ]
  },
  {
   "cell_type": "code",
   "execution_count": 88,
   "metadata": {},
   "outputs": [
    {
     "data": {
      "text/plain": [
       "Index(['RenalDiseaseIndicator', 'NoOfMonths_PartACov', 'NoOfMonths_PartBCov',\n",
       "       'ChronicCond_Alzheimer', 'ChronicCond_Heartfailure',\n",
       "       'ChronicCond_KidneyDisease', 'ChronicCond_Cancer',\n",
       "       'ChronicCond_ObstrPulmonary', 'ChronicCond_Depression',\n",
       "       'ChronicCond_Diabetes', 'ChronicCond_IschemicHeart',\n",
       "       'ChronicCond_Osteoporasis', 'ChronicCond_rheumatoidarthritis',\n",
       "       'ChronicCond_stroke', 'IPAnnualReimbursementAmt',\n",
       "       'IPAnnualDeductibleAmt', 'OPAnnualReimbursementAmt',\n",
       "       'OPAnnualDeductibleAmt', 'InscClaimAmtReimbursed_In',\n",
       "       'AttendingPhysician_In', 'OperatingPhysician_In', 'OtherPhysician_In',\n",
       "       'DeductibleAmtPaid_In', 'num_claim_diagnose_in',\n",
       "       'num_claim_procedure_in'],\n",
       "      dtype='object')"
      ]
     },
     "execution_count": 88,
     "metadata": {},
     "output_type": "execute_result"
    }
   ],
   "source": [
    "X_test.columns"
   ]
  },
  {
   "cell_type": "code",
   "execution_count": 89,
   "metadata": {},
   "outputs": [
    {
     "data": {
      "text/plain": [
       "RenalDiseaseIndicator                int64\n",
       "NoOfMonths_PartACov                  int64\n",
       "NoOfMonths_PartBCov                  int64\n",
       "ChronicCond_Alzheimer                int64\n",
       "ChronicCond_Heartfailure             int64\n",
       "ChronicCond_KidneyDisease            int64\n",
       "ChronicCond_Cancer                   int64\n",
       "ChronicCond_ObstrPulmonary           int64\n",
       "ChronicCond_Depression               int64\n",
       "ChronicCond_Diabetes                 int64\n",
       "ChronicCond_IschemicHeart            int64\n",
       "ChronicCond_Osteoporasis             int64\n",
       "ChronicCond_rheumatoidarthritis      int64\n",
       "ChronicCond_stroke                   int64\n",
       "IPAnnualReimbursementAmt             int64\n",
       "IPAnnualDeductibleAmt                int64\n",
       "OPAnnualReimbursementAmt             int64\n",
       "OPAnnualDeductibleAmt                int64\n",
       "InscClaimAmtReimbursed_In          float64\n",
       "AttendingPhysician_In                int64\n",
       "OperatingPhysician_In                int64\n",
       "OtherPhysician_In                    int64\n",
       "DeductibleAmtPaid_In               float64\n",
       "num_claim_diagnose_in                int64\n",
       "num_claim_procedure_in               int64\n",
       "dtype: object"
      ]
     },
     "execution_count": 89,
     "metadata": {},
     "output_type": "execute_result"
    }
   ],
   "source": [
    "X_train_val.dtypes"
   ]
  },
  {
   "cell_type": "code",
   "execution_count": 90,
   "metadata": {},
   "outputs": [
    {
     "data": {
      "text/plain": [
       "dtype('int64')"
      ]
     },
     "execution_count": 90,
     "metadata": {},
     "output_type": "execute_result"
    }
   ],
   "source": [
    "y_train_val.dtypes"
   ]
  },
  {
   "cell_type": "code",
   "execution_count": 91,
   "metadata": {},
   "outputs": [
    {
     "data": {
      "text/plain": [
       "PotentialFraud\n",
       "0    1652\n",
       "1     440\n",
       "Name: count, dtype: int64"
      ]
     },
     "execution_count": 91,
     "metadata": {},
     "output_type": "execute_result"
    }
   ],
   "source": [
    "y_train_val.value_counts()"
   ]
  },
  {
   "cell_type": "code",
   "execution_count": 92,
   "metadata": {},
   "outputs": [
    {
     "data": {
      "text/plain": [
       "(520, 25)"
      ]
     },
     "execution_count": 92,
     "metadata": {},
     "output_type": "execute_result"
    }
   ],
   "source": [
    "X_test.shape"
   ]
  },
  {
   "cell_type": "code",
   "execution_count": 93,
   "metadata": {},
   "outputs": [
    {
     "data": {
      "text/plain": [
       "((2092, 25), (2092,))"
      ]
     },
     "execution_count": 93,
     "metadata": {},
     "output_type": "execute_result"
    }
   ],
   "source": [
    "X_train_val.shape, y_train_val.shape"
   ]
  },
  {
   "cell_type": "code",
   "execution_count": null,
   "metadata": {},
   "outputs": [],
   "source": []
  },
  {
   "cell_type": "markdown",
   "metadata": {},
   "source": [
    "## Using PyTorch library, train the models"
   ]
  },
  {
   "cell_type": "code",
   "execution_count": 94,
   "metadata": {},
   "outputs": [],
   "source": [
    "import torch\n",
    "import torch.nn as nn\n",
    "import torch.optim as optim\n",
    "from torch.utils.data import TensorDataset, DataLoader\n",
    "from sklearn.model_selection import KFold\n",
    "from sklearn.metrics import accuracy_score, precision_score, recall_score, f1_score , roc_auc_score"
   ]
  },
  {
   "cell_type": "code",
   "execution_count": 95,
   "metadata": {},
   "outputs": [],
   "source": [
    "# Define k-fold cross-validation\n",
    "kf = KFold(n_splits=5, random_state=42, shuffle=True)"
   ]
  },
  {
   "cell_type": "code",
   "execution_count": 96,
   "metadata": {},
   "outputs": [],
   "source": [
    "# Function to calculate various risk metrics\n",
    "\n",
    "\n",
    "def calculate_risks(y_true, y_pred):\n",
    "    accuracy = accuracy_score(y_true, y_pred)\n",
    "    precision = precision_score(y_true, y_pred)\n",
    "    recall = recall_score(y_true, y_pred)\n",
    "    f1 = f1_score(y_true, y_pred)\n",
    "    roc_auc = roc_auc_score(y_true, y_pred)\n",
    "    return accuracy, precision, recall, f1, roc_auc"
   ]
  },
  {
   "cell_type": "code",
   "execution_count": null,
   "metadata": {},
   "outputs": [],
   "source": []
  },
  {
   "cell_type": "markdown",
   "metadata": {},
   "source": [
    "##### 1. Logistic Regression Model"
   ]
  },
  {
   "cell_type": "code",
   "execution_count": 97,
   "metadata": {},
   "outputs": [],
   "source": [
    "# Define logistic regression model\n",
    "\n",
    "\n",
    "class LogisticRegression(nn.Module):\n",
    "    def __init__(self, input_dim):\n",
    "        super(LogisticRegression, self).__init__()\n",
    "        self.linear = nn.Linear(input_dim, 1)\n",
    "\n",
    "    def forward(self, x):\n",
    "        return torch.sigmoid(self.linear(x))"
   ]
  },
  {
   "cell_type": "code",
   "execution_count": 98,
   "metadata": {},
   "outputs": [],
   "source": [
    "# Define hyperparameters\n",
    "learning_rate = 0.01\n",
    "num_epochs = 100\n",
    "input_dim = X_train_val.shape[1]"
   ]
  },
  {
   "cell_type": "code",
   "execution_count": 99,
   "metadata": {},
   "outputs": [],
   "source": [
    "# Convert pandas dataframe to PyTorch tensors\n",
    "X_train_val_tensor = torch.tensor(X_train_val.values.astype(np.float32))\n",
    "y_train_val_tensor = torch.tensor(y_train_val.values.reshape(-1, 1).astype(np.float32))"
   ]
  },
  {
   "cell_type": "code",
   "execution_count": 100,
   "metadata": {},
   "outputs": [
    {
     "name": "stderr",
     "output_type": "stream",
     "text": [
      "/home/neeraj/Code/healthcare_fraud_classification/fraud_detection_env/lib/python3.10/site-packages/sklearn/metrics/_classification.py:1509: UndefinedMetricWarning: Precision is ill-defined and being set to 0.0 due to no predicted samples. Use `zero_division` parameter to control this behavior.\n",
      "  _warn_prf(average, modifier, f\"{metric.capitalize()} is\", len(result))\n",
      "/home/neeraj/Code/healthcare_fraud_classification/fraud_detection_env/lib/python3.10/site-packages/sklearn/metrics/_classification.py:1509: UndefinedMetricWarning: Precision is ill-defined and being set to 0.0 due to no predicted samples. Use `zero_division` parameter to control this behavior.\n",
      "  _warn_prf(average, modifier, f\"{metric.capitalize()} is\", len(result))\n",
      "/home/neeraj/Code/healthcare_fraud_classification/fraud_detection_env/lib/python3.10/site-packages/sklearn/metrics/_classification.py:1509: UndefinedMetricWarning: Precision is ill-defined and being set to 0.0 due to no predicted samples. Use `zero_division` parameter to control this behavior.\n",
      "  _warn_prf(average, modifier, f\"{metric.capitalize()} is\", len(result))\n"
     ]
    },
    {
     "name": "stdout",
     "output_type": "stream",
     "text": [
      "Accuracies: [0.7947494033412887, 0.2100238663484487, 0.7727272727272727, 0.7918660287081339, 0.7990430622009569]\n",
      "Precisions: [0.0, 0.2100238663484487, 0.0, 0.0, 0.0]\n",
      "Recalls: [0.0, 1.0, 0.0, 0.0, 0.0]\n",
      "F1 Scores: [0.0, 0.34714003944773175, 0.0, 0.0, 0.0]\n",
      "ROC AUC Scores: [0.5, 0.5, 0.5, 0.5, 0.5]\n",
      "----------------------------------------\n",
      "Average Accuracy: 0.6736819266652202\n",
      "Average Precision: 0.04200477326968974\n",
      "Average Recall: 0.2\n",
      "Average F1 Score: 0.06942800788954635\n",
      "Average ROC AUC: 0.5\n"
     ]
    },
    {
     "name": "stderr",
     "output_type": "stream",
     "text": [
      "/home/neeraj/Code/healthcare_fraud_classification/fraud_detection_env/lib/python3.10/site-packages/sklearn/metrics/_classification.py:1509: UndefinedMetricWarning: Precision is ill-defined and being set to 0.0 due to no predicted samples. Use `zero_division` parameter to control this behavior.\n",
      "  _warn_prf(average, modifier, f\"{metric.capitalize()} is\", len(result))\n"
     ]
    }
   ],
   "source": [
    "# Define lists to store performance metrics\n",
    "accuracies = []\n",
    "precisions = []\n",
    "recalls = []\n",
    "f1_scores = []\n",
    "roc_auc_scores = []\n",
    "\n",
    "# Perform k-fold cross-validation\n",
    "for train_index, val_index in kf.split(X_train_val_tensor):\n",
    "    X_train, X_val = X_train_val_tensor[train_index], X_train_val_tensor[val_index]\n",
    "    y_train, y_val = y_train_val_tensor[train_index], y_train_val_tensor[val_index]\n",
    "\n",
    "    # Initialize model, loss function, and optimizer\n",
    "    model = LogisticRegression(input_dim)\n",
    "    criterion = nn.BCELoss()\n",
    "    optimizer = optim.SGD(model.parameters(), lr=learning_rate)\n",
    "\n",
    "    # Train model\n",
    "    for epoch in range(num_epochs):\n",
    "        model.train()\n",
    "        optimizer.zero_grad()\n",
    "        outputs = model(X_train)\n",
    "        loss = criterion(outputs, y_train)\n",
    "        loss.backward()\n",
    "        optimizer.step()\n",
    "\n",
    "    # Evaluate model on validation set\n",
    "    model.eval()\n",
    "    with torch.no_grad():\n",
    "        y_pred = (model(X_val) > 0.5).float()\n",
    "        accuracy, precision, recall, f1, roc_auc = calculate_risks(y_val.numpy(), y_pred.numpy())\n",
    "        accuracies.append(accuracy)\n",
    "        precisions.append(precision)\n",
    "        recalls.append(recall)\n",
    "        f1_scores.append(f1)\n",
    "        roc_auc_scores.append(roc_auc)\n",
    "\n",
    "\n",
    "print(f'Accuracies: {accuracies}')\n",
    "print(f'Precisions: {precisions}')\n",
    "print(f'Recalls: {recalls}')\n",
    "print(f'F1 Scores: {f1_scores}')\n",
    "print(f'ROC AUC Scores: {roc_auc_scores}')\n",
    "print('----' * 10)\n",
    "\n",
    "# Calculate average performance metrics\n",
    "avg_accuracy = np.mean(accuracies)\n",
    "avg_precision = np.mean(precisions)\n",
    "avg_recall = np.mean(recalls)\n",
    "avg_f1 = np.mean(f1_scores)\n",
    "avg_roc_auc = np.mean(roc_auc_scores)\n",
    "\n",
    "\n",
    "# Print average performance metrics\n",
    "print(f'Average Accuracy: {avg_accuracy}')\n",
    "print(f'Average Precision: {avg_precision}')\n",
    "print(f'Average Recall: {avg_recall}')\n",
    "print(f'Average F1 Score: {avg_f1}')\n",
    "print(f'Average ROC AUC: {avg_roc_auc}')"
   ]
  },
  {
   "cell_type": "code",
   "execution_count": 101,
   "metadata": {},
   "outputs": [
    {
     "name": "stdout",
     "output_type": "stream",
     "text": [
      "Average Accuracy:  0.67 +/-  0.23\n",
      "Average Precision:  0.04 +/-  0.08\n",
      "Average Recall:  0.20 +/-  0.40\n",
      "Average F1 Score:  0.07 +/-  0.14\n",
      "Average ROC AUC:  0.50 +/-  0.00\n"
     ]
    }
   ],
   "source": [
    "## calculate mean and standard deviation of the performance metrics\n",
    "mean_accuracy = np.mean(accuracies)\n",
    "std_accuracy = np.std(accuracies)\n",
    "\n",
    "mean_precision = np.mean(precisions)\n",
    "std_precision = np.std(precisions)\n",
    "\n",
    "mean_recall = np.mean(recalls)\n",
    "std_recall = np.std(recalls)\n",
    "\n",
    "mean_f1 = np.mean(f1_scores)\n",
    "std_f1 = np.std(f1_scores)\n",
    "\n",
    "mean_roc_auc = np.mean(roc_auc_scores)\n",
    "std_roc_auc = np.std(roc_auc_scores)\n",
    "\n",
    "# Print average performance metrics\n",
    "print(f'Average Accuracy: {mean_accuracy: .2f} +/- {std_accuracy: .2f}')\n",
    "print(f'Average Precision: {mean_precision: .2f} +/- {std_precision: .2f}')\n",
    "print(f'Average Recall: {mean_recall: .2f} +/- {std_recall: .2f}')\n",
    "print(f'Average F1 Score: {mean_f1: .2f} +/- {std_f1: .2f}')\n",
    "print(f'Average ROC AUC: {mean_roc_auc: .2f} +/- {std_roc_auc: .2f}')"
   ]
  },
  {
   "cell_type": "code",
   "execution_count": null,
   "metadata": {},
   "outputs": [],
   "source": []
  },
  {
   "cell_type": "markdown",
   "metadata": {},
   "source": [
    "##### 2. Random Forest"
   ]
  },
  {
   "cell_type": "code",
   "execution_count": 102,
   "metadata": {},
   "outputs": [],
   "source": [
    "from sklearn.ensemble import RandomForestClassifier"
   ]
  },
  {
   "cell_type": "code",
   "execution_count": 103,
   "metadata": {},
   "outputs": [
    {
     "name": "stdout",
     "output_type": "stream",
     "text": [
      "Accuracies: [0.8162291169451074, 0.8186157517899761, 0.854066985645933, 0.854066985645933, 0.8732057416267942]\n",
      "Precisions: [0.5882352941176471, 0.6304347826086957, 0.75, 0.7166666666666667, 0.8604651162790697]\n",
      "Recalls: [0.3488372093023256, 0.32954545454545453, 0.5368421052631579, 0.4942528735632184, 0.44047619047619047]\n",
      "F1 Scores: [0.43795620437956206, 0.43283582089552236, 0.6257668711656442, 0.5850340136054422, 0.5826771653543307]\n",
      "ROC AUC Scores: [0.6428870731196312, 0.6390929689645702, 0.7421052631578947, 0.721446678473452, 0.7112560593099515]\n",
      "----------------------------------------\n",
      "Average Accuracy: 0.8432369163307488\n",
      "Average Precision: 0.7091603719344158\n",
      "Average Recall: 0.4299907666300694\n",
      "Average F1 Score: 0.5328540150801002\n",
      "Average ROC AUC: 0.6913576086050999\n"
     ]
    }
   ],
   "source": [
    "# Convert pandas dataframe to numpy arrays\n",
    "X_train_val_np = X_train_val.values\n",
    "y_train_val_np = y_train_val.values.reshape(-1)\n",
    "\n",
    "# Define hyperparameters\n",
    "num_estimators = 100\n",
    "max_depth = 5  # Adjust as needed\n",
    "random_state = 42\n",
    "\n",
    "# Define lists to store performance metrics\n",
    "accuracies = []\n",
    "precisions = []\n",
    "recalls = []\n",
    "f1_scores = []\n",
    "roc_auc_scores = []\n",
    "\n",
    "# Perform k-fold cross-validation\n",
    "for train_index, val_index in kf.split(X_train_val_np):\n",
    "    X_train, X_val = X_train_val_np[train_index], X_train_val_np[val_index]\n",
    "    y_train, y_val = y_train_val_np[train_index], y_train_val_np[val_index]\n",
    "\n",
    "    # Initialize and train Random Forest classifier\n",
    "    rf_model = RandomForestClassifier(n_estimators=num_estimators, max_depth=max_depth, random_state=random_state)\n",
    "    rf_model.fit(X_train, y_train)\n",
    "\n",
    "    # Evaluate model on validation set\n",
    "    y_pred = rf_model.predict(X_val)\n",
    "    accuracy, precision, recall, f1, roc_auc = calculate_risks(y_val, y_pred)\n",
    "    accuracies.append(accuracy)\n",
    "    precisions.append(precision)\n",
    "    recalls.append(recall)\n",
    "    f1_scores.append(f1)\n",
    "    roc_auc_scores.append(roc_auc)\n",
    "\n",
    "\n",
    "print(f'Accuracies: {accuracies}')\n",
    "print(f'Precisions: {precisions}')\n",
    "print(f'Recalls: {recalls}')\n",
    "print(f'F1 Scores: {f1_scores}')\n",
    "print(f'ROC AUC Scores: {roc_auc_scores}')\n",
    "print('----' * 10)\n",
    "\n",
    "# Calculate average performance metrics\n",
    "avg_accuracy = np.mean(accuracies)\n",
    "avg_precision = np.mean(precisions)\n",
    "avg_recall = np.mean(recalls)\n",
    "avg_f1 = np.mean(f1_scores)\n",
    "avg_roc_auc = np.mean(roc_auc_scores)\n",
    "\n",
    "\n",
    "# Print average performance metrics\n",
    "print(f'Average Accuracy: {avg_accuracy}')\n",
    "print(f'Average Precision: {avg_precision}')\n",
    "print(f'Average Recall: {avg_recall}')\n",
    "print(f'Average F1 Score: {avg_f1}')\n",
    "print(f'Average ROC AUC: {avg_roc_auc}')"
   ]
  },
  {
   "cell_type": "code",
   "execution_count": 104,
   "metadata": {},
   "outputs": [
    {
     "name": "stdout",
     "output_type": "stream",
     "text": [
      "Average Accuracy:  0.84 +/-  0.02\n",
      "Average Precision:  0.71 +/-  0.10\n",
      "Average Recall:  0.43 +/-  0.08\n",
      "Average F1 Score:  0.53 +/-  0.08\n",
      "Average ROC AUC:  0.69 +/-  0.04\n"
     ]
    }
   ],
   "source": [
    "## calculate mean and standard deviation of the performance metrics\n",
    "mean_accuracy = np.mean(accuracies)\n",
    "std_accuracy = np.std(accuracies)\n",
    "\n",
    "mean_precision = np.mean(precisions)\n",
    "std_precision = np.std(precisions)\n",
    "\n",
    "mean_recall = np.mean(recalls)\n",
    "std_recall = np.std(recalls)\n",
    "\n",
    "mean_f1 = np.mean(f1_scores)\n",
    "std_f1 = np.std(f1_scores)\n",
    "\n",
    "mean_roc_auc = np.mean(roc_auc_scores)\n",
    "std_roc_auc = np.std(roc_auc_scores)\n",
    "\n",
    "# Print average performance metrics\n",
    "print(f'Average Accuracy: {mean_accuracy: .2f} +/- {std_accuracy: .2f}')\n",
    "print(f'Average Precision: {mean_precision: .2f} +/- {std_precision: .2f}')\n",
    "print(f'Average Recall: {mean_recall: .2f} +/- {std_recall: .2f}')\n",
    "print(f'Average F1 Score: {mean_f1: .2f} +/- {std_f1: .2f}')\n",
    "print(f'Average ROC AUC: {mean_roc_auc: .2f} +/- {std_roc_auc: .2f}')"
   ]
  },
  {
   "cell_type": "code",
   "execution_count": null,
   "metadata": {},
   "outputs": [],
   "source": []
  },
  {
   "cell_type": "markdown",
   "metadata": {},
   "source": [
    "##### 3. Decision Tree"
   ]
  },
  {
   "cell_type": "markdown",
   "metadata": {},
   "source": [
    "#"
   ]
  },
  {
   "cell_type": "code",
   "execution_count": 105,
   "metadata": {},
   "outputs": [],
   "source": [
    "from sklearn.tree import DecisionTreeClassifier"
   ]
  },
  {
   "cell_type": "code",
   "execution_count": 106,
   "metadata": {},
   "outputs": [
    {
     "name": "stdout",
     "output_type": "stream",
     "text": [
      "Accuracies: [0.8926014319809069, 0.8758949880668258, 0.8995215311004785, 0.8947368421052632, 0.8732057416267942]\n",
      "Precisions: [0.9019607843137255, 0.9090909090909091, 0.9206349206349206, 0.9056603773584906, 0.8604651162790697]\n",
      "Recalls: [0.5348837209302325, 0.45454545454545453, 0.6105263157894737, 0.5517241379310345, 0.44047619047619047]\n",
      "F1 Scores: [0.6715328467153284, 0.6060606060606061, 0.7341772151898734, 0.6857142857142857, 0.5826771653543307]\n",
      "ROC AUC Scores: [0.7599343529576088, 0.7212304312002197, 0.7975232198142416, 0.7683091988748828, 0.7112560593099515]\n",
      "----------------------------------------\n",
      "Average Accuracy: 0.8871921069760538\n",
      "Average Precision: 0.899562421535423\n",
      "Average Recall: 0.5184311639344772\n",
      "Average F1 Score: 0.6560324238068848\n",
      "Average ROC AUC: 0.7516506524313809\n"
     ]
    }
   ],
   "source": [
    "# Convert pandas dataframe to numpy arrays\n",
    "X_train_val_np = X_train_val.values\n",
    "y_train_val_np = y_train_val.values.reshape(-1)\n",
    "\n",
    "# Define hyperparameters\n",
    "num_estimators = 100\n",
    "max_depth = 5  # Adjust as needed\n",
    "random_state = 42\n",
    "\n",
    "# Define lists to store performance metrics\n",
    "accuracies = []\n",
    "precisions = []\n",
    "recalls = []\n",
    "f1_scores = []\n",
    "roc_auc_scores = []\n",
    "\n",
    "# Perform k-fold cross-validation\n",
    "for train_index, val_index in kf.split(X_train_val_np):\n",
    "    X_train, X_val = X_train_val_np[train_index], X_train_val_np[val_index]\n",
    "    y_train, y_val = y_train_val_np[train_index], y_train_val_np[val_index]\n",
    "\n",
    "    # Initialize and train Decision Tree classifier\n",
    "    dt_model = DecisionTreeClassifier()\n",
    "    dt_model.fit(X_train, y_train)\n",
    "\n",
    "    # Evaluate model on validation set\n",
    "    y_pred = rf_model.predict(X_val)\n",
    "    accuracy, precision, recall, f1, roc_auc = calculate_risks(y_val, y_pred)\n",
    "    accuracies.append(accuracy)\n",
    "    precisions.append(precision)\n",
    "    recalls.append(recall)\n",
    "    f1_scores.append(f1)\n",
    "    roc_auc_scores.append(roc_auc)\n",
    "\n",
    "\n",
    "print(f'Accuracies: {accuracies}')\n",
    "print(f'Precisions: {precisions}')\n",
    "print(f'Recalls: {recalls}')\n",
    "print(f'F1 Scores: {f1_scores}')\n",
    "print(f'ROC AUC Scores: {roc_auc_scores}')\n",
    "print('----' * 10)\n",
    "\n",
    "# Calculate average performance metrics\n",
    "avg_accuracy = np.mean(accuracies)\n",
    "avg_precision = np.mean(precisions)\n",
    "avg_recall = np.mean(recalls)\n",
    "avg_f1 = np.mean(f1_scores)\n",
    "avg_roc_auc = np.mean(roc_auc_scores)\n",
    "\n",
    "\n",
    "# Print average performance metrics\n",
    "print(f'Average Accuracy: {avg_accuracy}')\n",
    "print(f'Average Precision: {avg_precision}')\n",
    "print(f'Average Recall: {avg_recall}')\n",
    "print(f'Average F1 Score: {avg_f1}')\n",
    "print(f'Average ROC AUC: {avg_roc_auc}')"
   ]
  },
  {
   "cell_type": "code",
   "execution_count": 107,
   "metadata": {},
   "outputs": [
    {
     "name": "stdout",
     "output_type": "stream",
     "text": [
      "Average Accuracy:  0.89 +/-  0.01\n",
      "Average Precision:  0.90 +/-  0.02\n",
      "Average Recall:  0.52 +/-  0.06\n",
      "Average F1 Score:  0.66 +/-  0.05\n",
      "Average ROC AUC:  0.75 +/-  0.03\n"
     ]
    }
   ],
   "source": [
    "## calculate mean and standard deviation of the performance metrics\n",
    "mean_accuracy = np.mean(accuracies)\n",
    "std_accuracy = np.std(accuracies)\n",
    "\n",
    "mean_precision = np.mean(precisions)\n",
    "std_precision = np.std(precisions)\n",
    "\n",
    "mean_recall = np.mean(recalls)\n",
    "std_recall = np.std(recalls)\n",
    "\n",
    "mean_f1 = np.mean(f1_scores)\n",
    "std_f1 = np.std(f1_scores)\n",
    "\n",
    "mean_roc_auc = np.mean(roc_auc_scores)\n",
    "std_roc_auc = np.std(roc_auc_scores)\n",
    "\n",
    "# Print average performance metrics\n",
    "print(f'Average Accuracy: {mean_accuracy: .2f} +/- {std_accuracy: .2f}')\n",
    "print(f'Average Precision: {mean_precision: .2f} +/- {std_precision: .2f}')\n",
    "print(f'Average Recall: {mean_recall: .2f} +/- {std_recall: .2f}')\n",
    "print(f'Average F1 Score: {mean_f1: .2f} +/- {std_f1: .2f}')\n",
    "print(f'Average ROC AUC: {mean_roc_auc: .2f} +/- {std_roc_auc: .2f}')"
   ]
  },
  {
   "cell_type": "code",
   "execution_count": null,
   "metadata": {},
   "outputs": [],
   "source": []
  },
  {
   "cell_type": "markdown",
   "metadata": {},
   "source": [
    "##### 4. SVM "
   ]
  },
  {
   "cell_type": "code",
   "execution_count": 108,
   "metadata": {},
   "outputs": [],
   "source": [
    "from sklearn.svm import SVC"
   ]
  },
  {
   "cell_type": "code",
   "execution_count": 109,
   "metadata": {},
   "outputs": [
    {
     "name": "stdout",
     "output_type": "stream",
     "text": [
      "Accuracies: [0.8926014319809069, 0.8758949880668258, 0.8995215311004785, 0.8947368421052632, 0.8732057416267942]\n",
      "Precisions: [0.9019607843137255, 0.9090909090909091, 0.9206349206349206, 0.9056603773584906, 0.8604651162790697]\n",
      "Recalls: [0.5348837209302325, 0.45454545454545453, 0.6105263157894737, 0.5517241379310345, 0.44047619047619047]\n",
      "F1 Scores: [0.6715328467153284, 0.6060606060606061, 0.7341772151898734, 0.6857142857142857, 0.5826771653543307]\n",
      "ROC AUC Scores: [0.7599343529576088, 0.7212304312002197, 0.7975232198142416, 0.7683091988748828, 0.7112560593099515]\n",
      "----------------------------------------\n",
      "Average Accuracy: 0.8871921069760538\n",
      "Average Precision: 0.899562421535423\n",
      "Average Recall: 0.5184311639344772\n",
      "Average F1 Score: 0.6560324238068848\n",
      "Average ROC AUC: 0.7516506524313809\n"
     ]
    }
   ],
   "source": [
    "# Convert pandas dataframe to numpy arrays\n",
    "X_train_val_np = X_train_val.values\n",
    "y_train_val_np = y_train_val.values.reshape(-1)\n",
    "\n",
    "# Define hyperparameters\n",
    "num_estimators = 100\n",
    "max_depth = 5  # Adjust as needed\n",
    "random_state = 42\n",
    "\n",
    "# Define lists to store performance metrics\n",
    "accuracies = []\n",
    "precisions = []\n",
    "recalls = []\n",
    "f1_scores = []\n",
    "roc_auc_scores = []\n",
    "\n",
    "# Perform k-fold cross-validation\n",
    "for train_index, val_index in kf.split(X_train_val_np):\n",
    "    X_train, X_val = X_train_val_np[train_index], X_train_val_np[val_index]\n",
    "    y_train, y_val = y_train_val_np[train_index], y_train_val_np[val_index]\n",
    "\n",
    "    # Initialize and train SVM classifier\n",
    "    svm_model = SVC()\n",
    "    svm_model.fit(X_train, y_train)\n",
    "\n",
    "    # Evaluate model on validation set\n",
    "    y_pred = rf_model.predict(X_val)\n",
    "    accuracy, precision, recall, f1, roc_auc = calculate_risks(y_val, y_pred)\n",
    "    accuracies.append(accuracy)\n",
    "    precisions.append(precision)\n",
    "    recalls.append(recall)\n",
    "    f1_scores.append(f1)\n",
    "    roc_auc_scores.append(roc_auc)\n",
    "\n",
    "\n",
    "print(f'Accuracies: {accuracies}')\n",
    "print(f'Precisions: {precisions}')\n",
    "print(f'Recalls: {recalls}')\n",
    "print(f'F1 Scores: {f1_scores}')\n",
    "print(f'ROC AUC Scores: {roc_auc_scores}')\n",
    "print('----' * 10)\n",
    "\n",
    "# Calculate average performance metrics\n",
    "avg_accuracy = np.mean(accuracies)\n",
    "avg_precision = np.mean(precisions)\n",
    "avg_recall = np.mean(recalls)\n",
    "avg_f1 = np.mean(f1_scores)\n",
    "avg_roc_auc = np.mean(roc_auc_scores)\n",
    "\n",
    "\n",
    "# Print average performance metrics\n",
    "print(f'Average Accuracy: {avg_accuracy}')\n",
    "print(f'Average Precision: {avg_precision}')\n",
    "print(f'Average Recall: {avg_recall}')\n",
    "print(f'Average F1 Score: {avg_f1}')\n",
    "print(f'Average ROC AUC: {avg_roc_auc}')"
   ]
  },
  {
   "cell_type": "code",
   "execution_count": 110,
   "metadata": {},
   "outputs": [
    {
     "name": "stdout",
     "output_type": "stream",
     "text": [
      "Average Accuracy:  0.89 +/-  0.01\n",
      "Average Precision:  0.90 +/-  0.02\n",
      "Average Recall:  0.52 +/-  0.06\n",
      "Average F1 Score:  0.66 +/-  0.05\n",
      "Average ROC AUC:  0.75 +/-  0.03\n"
     ]
    }
   ],
   "source": [
    "## calculate mean and standard deviation of the performance metrics\n",
    "mean_accuracy = np.mean(accuracies)\n",
    "std_accuracy = np.std(accuracies)\n",
    "\n",
    "mean_precision = np.mean(precisions)\n",
    "std_precision = np.std(precisions)\n",
    "\n",
    "mean_recall = np.mean(recalls)\n",
    "std_recall = np.std(recalls)\n",
    "\n",
    "mean_f1 = np.mean(f1_scores)\n",
    "std_f1 = np.std(f1_scores)\n",
    "\n",
    "mean_roc_auc = np.mean(roc_auc_scores)\n",
    "std_roc_auc = np.std(roc_auc_scores)\n",
    "\n",
    "# Print average performance metrics\n",
    "print(f'Average Accuracy: {mean_accuracy: .2f} +/- {std_accuracy: .2f}')\n",
    "print(f'Average Precision: {mean_precision: .2f} +/- {std_precision: .2f}')\n",
    "print(f'Average Recall: {mean_recall: .2f} +/- {std_recall: .2f}')\n",
    "print(f'Average F1 Score: {mean_f1: .2f} +/- {std_f1: .2f}')\n",
    "print(f'Average ROC AUC: {mean_roc_auc: .2f} +/- {std_roc_auc: .2f}')"
   ]
  },
  {
   "cell_type": "code",
   "execution_count": null,
   "metadata": {},
   "outputs": [],
   "source": []
  },
  {
   "cell_type": "markdown",
   "metadata": {},
   "source": [
    "##### 5. ANN (Artificial Neural Network)"
   ]
  },
  {
   "cell_type": "code",
   "execution_count": 111,
   "metadata": {},
   "outputs": [],
   "source": [
    "from tqdm import tqdm"
   ]
  },
  {
   "cell_type": "code",
   "execution_count": 112,
   "metadata": {},
   "outputs": [],
   "source": [
    "class ANN(nn.Module):\n",
    "    def __init__(self, input_dim):\n",
    "        super(ANN, self).__init__()\n",
    "        self.fc1 = nn.Linear(input_dim, 64)  # 64 hidden units\n",
    "        self.bn1 = nn.BatchNorm1d(64)  # Batch normalization for the first hidden layer\n",
    "        self.fc2 = nn.Linear(64, 32)  # 32 hidden units\n",
    "        self.bn2 = nn.BatchNorm1d(32)  # Batch normalization for the second hidden layer\n",
    "        self.fc3 = nn.Linear(32, 1)  # 1 output unit (binary classification)\n",
    "        self.dropout = nn.Dropout(0.5)  # Dropout with 50% probability\n",
    "\n",
    "    def forward(self, x):\n",
    "        x = torch.relu(self.bn1(self.fc1(x)))\n",
    "        x = self.dropout(x)  # Apply dropout after activation\n",
    "        x = torch.relu(self.bn2(self.fc2(x)))\n",
    "        x = self.dropout(x)  # Apply dropout after activation\n",
    "        x = torch.sigmoid(self.fc3(x))  # Sigmoid activation for binary classification\n",
    "        return x"
   ]
  },
  {
   "cell_type": "code",
   "execution_count": 113,
   "metadata": {},
   "outputs": [],
   "source": [
    "# Convert pandas dataframe to PyTorch tensors\n",
    "X_train_val_tensor = torch.tensor(X_train_val.values.astype(np.float32))\n",
    "y_train_val_tensor = torch.tensor(y_train_val.values.reshape(-1, 1).astype(np.float32))\n",
    "\n",
    "# Define hyperparameters\n",
    "learning_rate = 0.001\n",
    "num_epochs = 100\n",
    "input_dim = X_train_val.shape[1]"
   ]
  },
  {
   "cell_type": "code",
   "execution_count": 114,
   "metadata": {},
   "outputs": [
    {
     "name": "stderr",
     "output_type": "stream",
     "text": [
      "                                                               \r"
     ]
    },
    {
     "name": "stdout",
     "output_type": "stream",
     "text": [
      "Accuracies: [0.8281622911694511, 0.8305489260143198, 0.8492822966507177, 0.8708133971291866, 0.8564593301435407]\n",
      "Precisions: [0.6590909090909091, 0.7428571428571429, 0.82, 0.7796610169491526, 1.0]\n",
      "Recalls: [0.3372093023255814, 0.29545454545454547, 0.43157894736842106, 0.5287356321839081, 0.2857142857142857]\n",
      "F1 Scores: [0.4461538461538462, 0.42276422764227645, 0.5655172413793104, 0.6301369863013698, 0.4444444444444444]\n",
      "ROC AUC Scores: [0.6460821286402681, 0.6341321065641308, 0.7018575851393188, 0.7447303538563045, 0.6428571428571428]\n",
      "----------------------------------------\n",
      "Average Accuracy: 0.8470532482214432\n",
      "Average Precision: 0.8003218137794409\n",
      "Average Recall: 0.37573854260934836\n",
      "Average F1 Score: 0.5018033491842495\n",
      "Average ROC AUC: 0.673931863411433\n"
     ]
    }
   ],
   "source": [
    "# Define lists to store performance metrics\n",
    "accuracies = []\n",
    "precisions = []\n",
    "recalls = []\n",
    "f1_scores = []\n",
    "roc_auc_scores = []\n",
    "\n",
    "# Perform k-fold cross-validation\n",
    "for train_index, val_index in kf.split(X_train_val_np):\n",
    "    X_train, X_val = X_train_val_tensor[train_index], X_train_val_tensor[val_index]\n",
    "    y_train, y_val = y_train_val_tensor[train_index], y_train_val_tensor[val_index]\n",
    "\n",
    "    # Initialize model, loss function, and optimizer\n",
    "    model = ANN(input_dim)\n",
    "    criterion = nn.BCELoss()\n",
    "    optimizer = optim.Adam(model.parameters(), lr=learning_rate)\n",
    "\n",
    "    # Create DataLoader for training data\n",
    "    train_dataset = TensorDataset(X_train, y_train)\n",
    "    train_loader = DataLoader(train_dataset, batch_size=64, shuffle=True)\n",
    "\n",
    "    # Train model\n",
    "    for epoch in range(num_epochs):\n",
    "        model.train()\n",
    "        for inputs, targets in tqdm(train_loader, desc=f'Epoch {epoch+1}/{num_epochs}', leave=False):\n",
    "            optimizer.zero_grad()\n",
    "            outputs = model(inputs)\n",
    "            loss = criterion(outputs, targets)\n",
    "            loss.backward()\n",
    "            optimizer.step()\n",
    "\n",
    "    # Evaluate model on validation set\n",
    "    model.eval()\n",
    "    with torch.no_grad():\n",
    "        y_pred = (model(X_val) > 0.5).float()\n",
    "        accuracy, precision, recall, f1, roc_auc = calculate_risks(y_val, y_pred)\n",
    "        accuracies.append(accuracy)\n",
    "        precisions.append(precision)\n",
    "        recalls.append(recall)\n",
    "        f1_scores.append(f1)\n",
    "        roc_auc_scores.append(roc_auc)\n",
    "\n",
    "\n",
    "print(f'Accuracies: {accuracies}')\n",
    "print(f'Precisions: {precisions}')\n",
    "print(f'Recalls: {recalls}')\n",
    "print(f'F1 Scores: {f1_scores}')\n",
    "print(f'ROC AUC Scores: {roc_auc_scores}')\n",
    "print('----' * 10)\n",
    "\n",
    "# Calculate average performance metrics\n",
    "avg_accuracy = np.mean(accuracies)\n",
    "avg_precision = np.mean(precisions)\n",
    "avg_recall = np.mean(recalls)\n",
    "avg_f1 = np.mean(f1_scores)\n",
    "avg_roc_auc = np.mean(roc_auc_scores)\n",
    "\n",
    "\n",
    "# Print average performance metrics\n",
    "print(f'Average Accuracy: {avg_accuracy}')\n",
    "print(f'Average Precision: {avg_precision}')\n",
    "print(f'Average Recall: {avg_recall}')\n",
    "print(f'Average F1 Score: {avg_f1}')\n",
    "print(f'Average ROC AUC: {avg_roc_auc}')"
   ]
  },
  {
   "cell_type": "code",
   "execution_count": 115,
   "metadata": {},
   "outputs": [
    {
     "name": "stdout",
     "output_type": "stream",
     "text": [
      "Average Accuracy:  0.85 +/-  0.02\n",
      "Average Precision:  0.80 +/-  0.11\n",
      "Average Recall:  0.38 +/-  0.09\n",
      "Average F1 Score:  0.50 +/-  0.08\n",
      "Average ROC AUC:  0.67 +/-  0.04\n"
     ]
    }
   ],
   "source": [
    "## calculate mean and standard deviation of the performance metrics\n",
    "mean_accuracy = np.mean(accuracies)\n",
    "std_accuracy = np.std(accuracies)\n",
    "\n",
    "mean_precision = np.mean(precisions)\n",
    "std_precision = np.std(precisions)\n",
    "\n",
    "mean_recall = np.mean(recalls)\n",
    "std_recall = np.std(recalls)\n",
    "\n",
    "mean_f1 = np.mean(f1_scores)\n",
    "std_f1 = np.std(f1_scores)\n",
    "\n",
    "mean_roc_auc = np.mean(roc_auc_scores)\n",
    "std_roc_auc = np.std(roc_auc_scores)\n",
    "\n",
    "# Print average performance metrics\n",
    "print(f'Average Accuracy: {mean_accuracy: .2f} +/- {std_accuracy: .2f}')\n",
    "print(f'Average Precision: {mean_precision: .2f} +/- {std_precision: .2f}')\n",
    "print(f'Average Recall: {mean_recall: .2f} +/- {std_recall: .2f}')\n",
    "print(f'Average F1 Score: {mean_f1: .2f} +/- {std_f1: .2f}')\n",
    "print(f'Average ROC AUC: {mean_roc_auc: .2f} +/- {std_roc_auc: .2f}')"
   ]
  },
  {
   "cell_type": "code",
   "execution_count": null,
   "metadata": {},
   "outputs": [],
   "source": []
  },
  {
   "cell_type": "code",
   "execution_count": null,
   "metadata": {},
   "outputs": [],
   "source": []
  },
  {
   "cell_type": "markdown",
   "metadata": {},
   "source": [
    "#### Make the Prediction using the Best Model (either Decision Tree or SVM)\n",
    "</br>\n",
    "</br>\n",
    "Here, we are using **Decision Tree** "
   ]
  },
  {
   "cell_type": "code",
   "execution_count": 116,
   "metadata": {},
   "outputs": [],
   "source": [
    "# Make predictions on X_test data\n",
    "predictions = dt_model.predict(X_test.values)"
   ]
  },
  {
   "cell_type": "code",
   "execution_count": 117,
   "metadata": {},
   "outputs": [
    {
     "data": {
      "text/plain": [
       "(520,)"
      ]
     },
     "execution_count": 117,
     "metadata": {},
     "output_type": "execute_result"
    }
   ],
   "source": [
    "predictions.shape"
   ]
  },
  {
   "cell_type": "code",
   "execution_count": 118,
   "metadata": {},
   "outputs": [],
   "source": [
    "# Map the predicted values back to 'Yes' and 'No'\n",
    "predicted_labels = ['Yes' if pred == 1 else 'No' for pred in predictions]"
   ]
  },
  {
   "cell_type": "code",
   "execution_count": 119,
   "metadata": {},
   "outputs": [
    {
     "data": {
      "text/plain": [
       "Index(['RenalDiseaseIndicator', 'NoOfMonths_PartACov', 'NoOfMonths_PartBCov',\n",
       "       'ChronicCond_Alzheimer', 'ChronicCond_Heartfailure',\n",
       "       'ChronicCond_KidneyDisease', 'ChronicCond_Cancer',\n",
       "       'ChronicCond_ObstrPulmonary', 'ChronicCond_Depression',\n",
       "       'ChronicCond_Diabetes', 'ChronicCond_IschemicHeart',\n",
       "       'ChronicCond_Osteoporasis', 'ChronicCond_rheumatoidarthritis',\n",
       "       'ChronicCond_stroke', 'IPAnnualReimbursementAmt',\n",
       "       'IPAnnualDeductibleAmt', 'OPAnnualReimbursementAmt',\n",
       "       'OPAnnualDeductibleAmt', 'InscClaimAmtReimbursed_In',\n",
       "       'AttendingPhysician_In', 'OperatingPhysician_In', 'OtherPhysician_In',\n",
       "       'DeductibleAmtPaid_In', 'num_claim_diagnose_in',\n",
       "       'num_claim_procedure_in'],\n",
       "      dtype='object')"
      ]
     },
     "execution_count": 119,
     "metadata": {},
     "output_type": "execute_result"
    }
   ],
   "source": [
    "X_test.columns"
   ]
  },
  {
   "cell_type": "code",
   "execution_count": 120,
   "metadata": {},
   "outputs": [
    {
     "data": {
      "text/plain": [
       "((520, 25), (520, 46))"
      ]
     },
     "execution_count": 120,
     "metadata": {},
     "output_type": "execute_result"
    }
   ],
   "source": [
    "X_test.shape, df_test.shape"
   ]
  },
  {
   "cell_type": "code",
   "execution_count": 121,
   "metadata": {},
   "outputs": [
    {
     "data": {
      "text/plain": [
       "Index(['Provider', 'BeneID', 'DOB', 'DOD', 'RenalDiseaseIndicator',\n",
       "       'NoOfMonths_PartACov', 'NoOfMonths_PartBCov', 'ChronicCond_Alzheimer',\n",
       "       'ChronicCond_Heartfailure', 'ChronicCond_KidneyDisease',\n",
       "       'ChronicCond_Cancer', 'ChronicCond_ObstrPulmonary',\n",
       "       'ChronicCond_Depression', 'ChronicCond_Diabetes',\n",
       "       'ChronicCond_IschemicHeart', 'ChronicCond_Osteoporasis',\n",
       "       'ChronicCond_rheumatoidarthritis', 'ChronicCond_stroke',\n",
       "       'IPAnnualReimbursementAmt', 'IPAnnualDeductibleAmt',\n",
       "       'OPAnnualReimbursementAmt', 'OPAnnualDeductibleAmt', 'ClaimID',\n",
       "       'ClaimStartDt_In', 'ClaimEndDt_In', 'InscClaimAmtReimbursed_In',\n",
       "       'AttendingPhysician_In', 'OperatingPhysician_In', 'OtherPhysician_In',\n",
       "       'AdmissionDt', 'ClmAdmitDiagnosisCode_In', 'DeductibleAmtPaid_In',\n",
       "       'DischargeDt', 'DiagnosisGroupCode', 'ClaimStartDt_Out',\n",
       "       'ClaimEndDt_Out', 'InscClaimAmtReimbursed_Out',\n",
       "       'AttendingPhysician_Out', 'OperatingPhysician_Out',\n",
       "       'OtherPhysician_Out', 'DeductibleAmtPaid_Out',\n",
       "       'ClmAdmitDiagnosisCode_Out', 'num_claim_diagnose_in',\n",
       "       'num_claim_diagnose_out', 'num_claim_procedure_in',\n",
       "       'num_claim_procedure_out'],\n",
       "      dtype='object')"
      ]
     },
     "execution_count": 121,
     "metadata": {},
     "output_type": "execute_result"
    }
   ],
   "source": [
    "df_test.columns"
   ]
  },
  {
   "cell_type": "code",
   "execution_count": 122,
   "metadata": {},
   "outputs": [
    {
     "data": {
      "text/html": [
       "<div>\n",
       "<style scoped>\n",
       "    .dataframe tbody tr th:only-of-type {\n",
       "        vertical-align: middle;\n",
       "    }\n",
       "\n",
       "    .dataframe tbody tr th {\n",
       "        vertical-align: top;\n",
       "    }\n",
       "\n",
       "    .dataframe thead th {\n",
       "        text-align: right;\n",
       "    }\n",
       "</style>\n",
       "<table border=\"1\" class=\"dataframe\">\n",
       "  <thead>\n",
       "    <tr style=\"text-align: right;\">\n",
       "      <th></th>\n",
       "      <th>Provider</th>\n",
       "      <th>PotentialFraud</th>\n",
       "    </tr>\n",
       "  </thead>\n",
       "  <tbody>\n",
       "    <tr>\n",
       "      <th>0</th>\n",
       "      <td>PRV51009</td>\n",
       "      <td>No</td>\n",
       "    </tr>\n",
       "    <tr>\n",
       "      <th>1</th>\n",
       "      <td>PRV51010</td>\n",
       "      <td>No</td>\n",
       "    </tr>\n",
       "    <tr>\n",
       "      <th>2</th>\n",
       "      <td>PRV51020</td>\n",
       "      <td>No</td>\n",
       "    </tr>\n",
       "    <tr>\n",
       "      <th>3</th>\n",
       "      <td>PRV51022</td>\n",
       "      <td>No</td>\n",
       "    </tr>\n",
       "    <tr>\n",
       "      <th>4</th>\n",
       "      <td>PRV51033</td>\n",
       "      <td>No</td>\n",
       "    </tr>\n",
       "    <tr>\n",
       "      <th>...</th>\n",
       "      <td>...</td>\n",
       "      <td>...</td>\n",
       "    </tr>\n",
       "    <tr>\n",
       "      <th>515</th>\n",
       "      <td>PRV57608</td>\n",
       "      <td>No</td>\n",
       "    </tr>\n",
       "    <tr>\n",
       "      <th>516</th>\n",
       "      <td>PRV57644</td>\n",
       "      <td>No</td>\n",
       "    </tr>\n",
       "    <tr>\n",
       "      <th>517</th>\n",
       "      <td>PRV57649</td>\n",
       "      <td>No</td>\n",
       "    </tr>\n",
       "    <tr>\n",
       "      <th>518</th>\n",
       "      <td>PRV57666</td>\n",
       "      <td>No</td>\n",
       "    </tr>\n",
       "    <tr>\n",
       "      <th>519</th>\n",
       "      <td>PRV57698</td>\n",
       "      <td>No</td>\n",
       "    </tr>\n",
       "  </tbody>\n",
       "</table>\n",
       "<p>520 rows × 2 columns</p>\n",
       "</div>"
      ],
      "text/plain": [
       "     Provider PotentialFraud\n",
       "0    PRV51009             No\n",
       "1    PRV51010             No\n",
       "2    PRV51020             No\n",
       "3    PRV51022             No\n",
       "4    PRV51033             No\n",
       "..        ...            ...\n",
       "515  PRV57608             No\n",
       "516  PRV57644             No\n",
       "517  PRV57649             No\n",
       "518  PRV57666             No\n",
       "519  PRV57698             No\n",
       "\n",
       "[520 rows x 2 columns]"
      ]
     },
     "execution_count": 122,
     "metadata": {},
     "output_type": "execute_result"
    }
   ],
   "source": [
    "# Create DataFrame with 'Provider' and 'PotentialFraud' columns\n",
    "output_df = pd.DataFrame({'Provider': df_test['Provider'], 'PotentialFraud': predicted_labels})\n",
    "output_df"
   ]
  },
  {
   "cell_type": "code",
   "execution_count": 123,
   "metadata": {},
   "outputs": [
    {
     "data": {
      "text/plain": [
       "PotentialFraud\n",
       "No     416\n",
       "Yes    104\n",
       "Name: count, dtype: int64"
      ]
     },
     "execution_count": 123,
     "metadata": {},
     "output_type": "execute_result"
    }
   ],
   "source": [
    "output_df['PotentialFraud'].value_counts()"
   ]
  },
  {
   "cell_type": "code",
   "execution_count": 124,
   "metadata": {},
   "outputs": [],
   "source": [
    "# Create the output dir and confirm that it was created\n",
    "output_dir = 'output'\n",
    "os.makedirs(output_dir, exist_ok=True)\n",
    "\n",
    "# Save the output to a CSV file\n",
    "output_file = os.path.join(output_dir, 'predictions.csv')\n",
    "output_df.to_csv(output_file, index=False)"
   ]
  },
  {
   "cell_type": "code",
   "execution_count": null,
   "metadata": {},
   "outputs": [],
   "source": []
  },
  {
   "cell_type": "code",
   "execution_count": null,
   "metadata": {},
   "outputs": [],
   "source": []
  }
 ],
 "metadata": {
  "kernelspec": {
   "display_name": "Python 3",
   "language": "python",
   "name": "python3"
  },
  "language_info": {
   "codemirror_mode": {
    "name": "ipython",
    "version": 3
   },
   "file_extension": ".py",
   "mimetype": "text/x-python",
   "name": "python",
   "nbconvert_exporter": "python",
   "pygments_lexer": "ipython3",
   "version": "3.10.12"
  }
 },
 "nbformat": 4,
 "nbformat_minor": 2
}
